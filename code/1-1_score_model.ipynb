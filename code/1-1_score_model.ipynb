{
 "cells": [
  {
   "cell_type": "markdown",
   "metadata": {},
   "source": [
    "## CV Job Matching using Doc2Vec"
   ]
  },
  {
   "cell_type": "markdown",
   "metadata": {},
   "source": [
    "### Implementation\n",
    "\n",
    "To implement CV Job Matching using Doc2Vec, we start by importing the necessary libraries and loading the job data from a CSV file. We preprocess the data, keeping only the relevant columns, and merge them into a new column called 'data.' Then, we tokenize the words in the 'data' column and tag them with unique identifiers using the TaggedDocument class.\n",
    "\n",
    "Next, we initialize the Doc2Vec model with specific parameters, such as the vector size, minimum count, and number of epochs. We build the vocabulary by feeding the tagged data to the model, and then train the model on the tagged data.\n",
    "\n",
    "After training, we save the model for future use. To match a resume with a job description, we load the saved model and preprocess the resume and job description text. We convert them to lowercase, remove punctuation and numerical values.\n",
    "\n",
    "Using the trained model, we infer the document vectors for the resume and job description. Then, we calculate the cosine similarity between the two vectors to determine the match between the resume and the job description. The cosine similarity score ranges from -1 to 1, with 1 indicating a perfect match and -1 indicating no similarity.\n",
    "\n",
    "By employing Doc2Vec and cosine similarity, this approach enables efficient and effective matching between job descriptions and resumes, helping to streamline the job application process and enhance the chances of finding the right candidates for specific positions.\n",
    "\n",
    "Finally, we also employ a Gauge chart from Plotly to show the matching percentage with threshold that users could consider modifying thier CV to pass Application Tracking System (TSA) from the majority of employers."
   ]
  },
  {
   "cell_type": "markdown",
   "metadata": {},
   "source": [
    "### Coding\n",
    "#### 1. Set up"
   ]
  },
  {
   "cell_type": "code",
   "execution_count": 1,
   "metadata": {
    "id": "YDFUjQi3S171"
   },
   "outputs": [],
   "source": [
    "## Install all dependencies\n",
    "# !pip install gensim\n",
    "# !pip install nltk\n",
    "# !pip install pandas\n",
    "# !pip install numpy\n",
    "# !pip install requests\n",
    "# !pip install PyPDF2\n",
    "# !pip install termcolor\n",
    "# !pip install python-docx\n",
    "# !pip install spacy\n",
    "# !python -m spacy download en_core_web_sm"
   ]
  },
  {
   "cell_type": "code",
   "execution_count": 36,
   "metadata": {
    "id": "kpZnVCxZSQ8a"
   },
   "outputs": [
    {
     "name": "stderr",
     "output_type": "stream",
     "text": [
      "[nltk_data] Downloading package punkt to /home/hh1980/nltk_data...\n",
      "[nltk_data]   Package punkt is already up-to-date!\n"
     ]
    },
    {
     "data": {
      "text/plain": [
       "True"
      ]
     },
     "execution_count": 36,
     "metadata": {},
     "output_type": "execute_result"
    }
   ],
   "source": [
    "# Import libraries\n",
    "from gensim.models.doc2vec import Doc2Vec, TaggedDocument\n",
    "from nltk.tokenize import word_tokenize\n",
    "from numpy.linalg import norm\n",
    "from termcolor import colored\n",
    "from docx import Document\n",
    "import pandas as pd\n",
    "import numpy as np\n",
    "import requests\n",
    "import PyPDF2\n",
    "import re\n",
    "import plotly.graph_objects as go\n",
    "import os\n",
    "import random\n",
    "import nltk\n",
    "import spacy\n",
    "import json\n",
    "from spacy.matcher import Matcher\n",
    "from sklearn.metrics import precision_score, recall_score, f1_score\n",
    "from sklearn.metrics.pairwise import cosine_similarity\n",
    "nltk.download('punkt')"
   ]
  },
  {
   "cell_type": "markdown",
   "metadata": {},
   "source": [
    "#### 2. Prepare data\n",
    "Prepare data from dataset"
   ]
  },
  {
   "cell_type": "code",
   "execution_count": 3,
   "metadata": {
    "colab": {
     "base_uri": "https://localhost:8080/",
     "height": 182
    },
    "id": "5CoVK6-iSWsU",
    "outputId": "20a60cf2-8224-47a2-d43c-b20d351db269"
   },
   "outputs": [
    {
     "data": {
      "text/html": [
       "<div>\n",
       "<style scoped>\n",
       "    .dataframe tbody tr th:only-of-type {\n",
       "        vertical-align: middle;\n",
       "    }\n",
       "\n",
       "    .dataframe tbody tr th {\n",
       "        vertical-align: top;\n",
       "    }\n",
       "\n",
       "    .dataframe thead th {\n",
       "        text-align: right;\n",
       "    }\n",
       "</style>\n",
       "<table border=\"1\" class=\"dataframe\">\n",
       "  <thead>\n",
       "    <tr style=\"text-align: right;\">\n",
       "      <th></th>\n",
       "      <th>Unnamed: 0</th>\n",
       "      <th>index</th>\n",
       "      <th>Job Title</th>\n",
       "      <th>Salary Estimate</th>\n",
       "      <th>Job Description</th>\n",
       "      <th>Rating</th>\n",
       "      <th>Company Name</th>\n",
       "      <th>Location</th>\n",
       "      <th>Headquarters</th>\n",
       "      <th>Size</th>\n",
       "      <th>Founded</th>\n",
       "      <th>Type of ownership</th>\n",
       "      <th>Industry</th>\n",
       "      <th>Sector</th>\n",
       "      <th>Revenue</th>\n",
       "      <th>Competitors</th>\n",
       "      <th>Easy Apply</th>\n",
       "    </tr>\n",
       "  </thead>\n",
       "  <tbody>\n",
       "    <tr>\n",
       "      <th>0</th>\n",
       "      <td>0</td>\n",
       "      <td>0</td>\n",
       "      <td>Senior Data Scientist</td>\n",
       "      <td>$111K-$181K (Glassdoor est.)</td>\n",
       "      <td>ABOUT HOPPER\\n\\nAt Hopper, we’re on a mission ...</td>\n",
       "      <td>3.5</td>\n",
       "      <td>Hopper\\n3.5</td>\n",
       "      <td>New York, NY</td>\n",
       "      <td>Montreal, Canada</td>\n",
       "      <td>501 to 1000 employees</td>\n",
       "      <td>2007</td>\n",
       "      <td>Company - Private</td>\n",
       "      <td>Travel Agencies</td>\n",
       "      <td>Travel &amp; Tourism</td>\n",
       "      <td>Unknown / Non-Applicable</td>\n",
       "      <td>-1</td>\n",
       "      <td>-1</td>\n",
       "    </tr>\n",
       "    <tr>\n",
       "      <th>1</th>\n",
       "      <td>1</td>\n",
       "      <td>1</td>\n",
       "      <td>Data Scientist, Product Analytics</td>\n",
       "      <td>$111K-$181K (Glassdoor est.)</td>\n",
       "      <td>At Noom, we use scientifically proven methods ...</td>\n",
       "      <td>4.5</td>\n",
       "      <td>Noom US\\n4.5</td>\n",
       "      <td>New York, NY</td>\n",
       "      <td>New York, NY</td>\n",
       "      <td>1001 to 5000 employees</td>\n",
       "      <td>2008</td>\n",
       "      <td>Company - Private</td>\n",
       "      <td>Health, Beauty, &amp; Fitness</td>\n",
       "      <td>Consumer Services</td>\n",
       "      <td>Unknown / Non-Applicable</td>\n",
       "      <td>-1</td>\n",
       "      <td>-1</td>\n",
       "    </tr>\n",
       "    <tr>\n",
       "      <th>2</th>\n",
       "      <td>2</td>\n",
       "      <td>2</td>\n",
       "      <td>Data Science Manager</td>\n",
       "      <td>$111K-$181K (Glassdoor est.)</td>\n",
       "      <td>Decode_M\\n\\nhttps://www.decode-m.com/\\n\\nData ...</td>\n",
       "      <td>-1.0</td>\n",
       "      <td>Decode_M</td>\n",
       "      <td>New York, NY</td>\n",
       "      <td>New York, NY</td>\n",
       "      <td>1 to 50 employees</td>\n",
       "      <td>-1</td>\n",
       "      <td>Unknown</td>\n",
       "      <td>-1</td>\n",
       "      <td>-1</td>\n",
       "      <td>Unknown / Non-Applicable</td>\n",
       "      <td>-1</td>\n",
       "      <td>True</td>\n",
       "    </tr>\n",
       "    <tr>\n",
       "      <th>3</th>\n",
       "      <td>3</td>\n",
       "      <td>3</td>\n",
       "      <td>Data Analyst</td>\n",
       "      <td>$111K-$181K (Glassdoor est.)</td>\n",
       "      <td>Sapphire Digital seeks a dynamic and driven mi...</td>\n",
       "      <td>3.4</td>\n",
       "      <td>Sapphire Digital\\n3.4</td>\n",
       "      <td>Lyndhurst, NJ</td>\n",
       "      <td>Lyndhurst, NJ</td>\n",
       "      <td>201 to 500 employees</td>\n",
       "      <td>2019</td>\n",
       "      <td>Company - Private</td>\n",
       "      <td>Internet</td>\n",
       "      <td>Information Technology</td>\n",
       "      <td>Unknown / Non-Applicable</td>\n",
       "      <td>Zocdoc, Healthgrades</td>\n",
       "      <td>-1</td>\n",
       "    </tr>\n",
       "    <tr>\n",
       "      <th>4</th>\n",
       "      <td>4</td>\n",
       "      <td>4</td>\n",
       "      <td>Director, Data Science</td>\n",
       "      <td>$111K-$181K (Glassdoor est.)</td>\n",
       "      <td>Director, Data Science - (200537)\\nDescription...</td>\n",
       "      <td>3.4</td>\n",
       "      <td>United Entertainment Group\\n3.4</td>\n",
       "      <td>New York, NY</td>\n",
       "      <td>New York, NY</td>\n",
       "      <td>51 to 200 employees</td>\n",
       "      <td>2007</td>\n",
       "      <td>Company - Private</td>\n",
       "      <td>Advertising &amp; Marketing</td>\n",
       "      <td>Business Services</td>\n",
       "      <td>Unknown / Non-Applicable</td>\n",
       "      <td>BBDO, Grey Group, Droga5</td>\n",
       "      <td>-1</td>\n",
       "    </tr>\n",
       "  </tbody>\n",
       "</table>\n",
       "</div>"
      ],
      "text/plain": [
       "   Unnamed: 0  index                          Job Title  \\\n",
       "0           0      0              Senior Data Scientist   \n",
       "1           1      1  Data Scientist, Product Analytics   \n",
       "2           2      2               Data Science Manager   \n",
       "3           3      3                       Data Analyst   \n",
       "4           4      4             Director, Data Science   \n",
       "\n",
       "                Salary Estimate  \\\n",
       "0  $111K-$181K (Glassdoor est.)   \n",
       "1  $111K-$181K (Glassdoor est.)   \n",
       "2  $111K-$181K (Glassdoor est.)   \n",
       "3  $111K-$181K (Glassdoor est.)   \n",
       "4  $111K-$181K (Glassdoor est.)   \n",
       "\n",
       "                                     Job Description  Rating  \\\n",
       "0  ABOUT HOPPER\\n\\nAt Hopper, we’re on a mission ...     3.5   \n",
       "1  At Noom, we use scientifically proven methods ...     4.5   \n",
       "2  Decode_M\\n\\nhttps://www.decode-m.com/\\n\\nData ...    -1.0   \n",
       "3  Sapphire Digital seeks a dynamic and driven mi...     3.4   \n",
       "4  Director, Data Science - (200537)\\nDescription...     3.4   \n",
       "\n",
       "                      Company Name       Location      Headquarters  \\\n",
       "0                      Hopper\\n3.5   New York, NY  Montreal, Canada   \n",
       "1                     Noom US\\n4.5   New York, NY      New York, NY   \n",
       "2                         Decode_M   New York, NY      New York, NY   \n",
       "3            Sapphire Digital\\n3.4  Lyndhurst, NJ     Lyndhurst, NJ   \n",
       "4  United Entertainment Group\\n3.4   New York, NY      New York, NY   \n",
       "\n",
       "                     Size  Founded  Type of ownership  \\\n",
       "0   501 to 1000 employees     2007  Company - Private   \n",
       "1  1001 to 5000 employees     2008  Company - Private   \n",
       "2       1 to 50 employees       -1            Unknown   \n",
       "3    201 to 500 employees     2019  Company - Private   \n",
       "4     51 to 200 employees     2007  Company - Private   \n",
       "\n",
       "                    Industry                  Sector  \\\n",
       "0            Travel Agencies        Travel & Tourism   \n",
       "1  Health, Beauty, & Fitness       Consumer Services   \n",
       "2                         -1                      -1   \n",
       "3                   Internet  Information Technology   \n",
       "4    Advertising & Marketing       Business Services   \n",
       "\n",
       "                    Revenue               Competitors Easy Apply  \n",
       "0  Unknown / Non-Applicable                        -1         -1  \n",
       "1  Unknown / Non-Applicable                        -1         -1  \n",
       "2  Unknown / Non-Applicable                        -1       True  \n",
       "3  Unknown / Non-Applicable      Zocdoc, Healthgrades         -1  \n",
       "4  Unknown / Non-Applicable  BBDO, Grey Group, Droga5         -1  "
      ]
     },
     "execution_count": 3,
     "metadata": {},
     "output_type": "execute_result"
    }
   ],
   "source": [
    "# Load data\n",
    "df = pd.read_csv('./dataset/DataScientist.csv')\n",
    "# Check data\n",
    "df.head()"
   ]
  },
  {
   "cell_type": "markdown",
   "metadata": {},
   "source": [
    "Since head() fuction does not show all data, we check column names to retain only necessary variables."
   ]
  },
  {
   "cell_type": "code",
   "execution_count": 4,
   "metadata": {},
   "outputs": [
    {
     "data": {
      "text/plain": [
       "Index(['Unnamed: 0', 'index', 'Job Title', 'Salary Estimate',\n",
       "       'Job Description', 'Rating', 'Company Name', 'Location', 'Headquarters',\n",
       "       'Size', 'Founded', 'Type of ownership', 'Industry', 'Sector', 'Revenue',\n",
       "       'Competitors', 'Easy Apply'],\n",
       "      dtype='object')"
      ]
     },
     "execution_count": 4,
     "metadata": {},
     "output_type": "execute_result"
    }
   ],
   "source": [
    "# Show column name\n",
    "df.columns"
   ]
  },
  {
   "cell_type": "markdown",
   "metadata": {},
   "source": [
    "Keep only some columns to train the model"
   ]
  },
  {
   "cell_type": "code",
   "execution_count": 5,
   "metadata": {},
   "outputs": [
    {
     "data": {
      "text/html": [
       "<div>\n",
       "<style scoped>\n",
       "    .dataframe tbody tr th:only-of-type {\n",
       "        vertical-align: middle;\n",
       "    }\n",
       "\n",
       "    .dataframe tbody tr th {\n",
       "        vertical-align: top;\n",
       "    }\n",
       "\n",
       "    .dataframe thead th {\n",
       "        text-align: right;\n",
       "    }\n",
       "</style>\n",
       "<table border=\"1\" class=\"dataframe\">\n",
       "  <thead>\n",
       "    <tr style=\"text-align: right;\">\n",
       "      <th></th>\n",
       "      <th>Job Title</th>\n",
       "      <th>Job Description</th>\n",
       "      <th>Industry</th>\n",
       "      <th>Sector</th>\n",
       "    </tr>\n",
       "  </thead>\n",
       "  <tbody>\n",
       "    <tr>\n",
       "      <th>0</th>\n",
       "      <td>Senior Data Scientist</td>\n",
       "      <td>ABOUT HOPPER\\n\\nAt Hopper, we’re on a mission ...</td>\n",
       "      <td>Travel Agencies</td>\n",
       "      <td>Travel &amp; Tourism</td>\n",
       "    </tr>\n",
       "    <tr>\n",
       "      <th>1</th>\n",
       "      <td>Data Scientist, Product Analytics</td>\n",
       "      <td>At Noom, we use scientifically proven methods ...</td>\n",
       "      <td>Health, Beauty, &amp; Fitness</td>\n",
       "      <td>Consumer Services</td>\n",
       "    </tr>\n",
       "    <tr>\n",
       "      <th>2</th>\n",
       "      <td>Data Science Manager</td>\n",
       "      <td>Decode_M\\n\\nhttps://www.decode-m.com/\\n\\nData ...</td>\n",
       "      <td>-1</td>\n",
       "      <td>-1</td>\n",
       "    </tr>\n",
       "    <tr>\n",
       "      <th>3</th>\n",
       "      <td>Data Analyst</td>\n",
       "      <td>Sapphire Digital seeks a dynamic and driven mi...</td>\n",
       "      <td>Internet</td>\n",
       "      <td>Information Technology</td>\n",
       "    </tr>\n",
       "    <tr>\n",
       "      <th>4</th>\n",
       "      <td>Director, Data Science</td>\n",
       "      <td>Director, Data Science - (200537)\\nDescription...</td>\n",
       "      <td>Advertising &amp; Marketing</td>\n",
       "      <td>Business Services</td>\n",
       "    </tr>\n",
       "  </tbody>\n",
       "</table>\n",
       "</div>"
      ],
      "text/plain": [
       "                           Job Title  \\\n",
       "0              Senior Data Scientist   \n",
       "1  Data Scientist, Product Analytics   \n",
       "2               Data Science Manager   \n",
       "3                       Data Analyst   \n",
       "4             Director, Data Science   \n",
       "\n",
       "                                     Job Description  \\\n",
       "0  ABOUT HOPPER\\n\\nAt Hopper, we’re on a mission ...   \n",
       "1  At Noom, we use scientifically proven methods ...   \n",
       "2  Decode_M\\n\\nhttps://www.decode-m.com/\\n\\nData ...   \n",
       "3  Sapphire Digital seeks a dynamic and driven mi...   \n",
       "4  Director, Data Science - (200537)\\nDescription...   \n",
       "\n",
       "                    Industry                  Sector  \n",
       "0            Travel Agencies        Travel & Tourism  \n",
       "1  Health, Beauty, & Fitness       Consumer Services  \n",
       "2                         -1                      -1  \n",
       "3                   Internet  Information Technology  \n",
       "4    Advertising & Marketing       Business Services  "
      ]
     },
     "execution_count": 5,
     "metadata": {},
     "output_type": "execute_result"
    }
   ],
   "source": [
    "df =df[['Job Title', 'Job Description', 'Industry', 'Sector']]\n",
    "df.head()"
   ]
  },
  {
   "cell_type": "code",
   "execution_count": 6,
   "metadata": {},
   "outputs": [
    {
     "data": {
      "text/html": [
       "<div>\n",
       "<style scoped>\n",
       "    .dataframe tbody tr th:only-of-type {\n",
       "        vertical-align: middle;\n",
       "    }\n",
       "\n",
       "    .dataframe tbody tr th {\n",
       "        vertical-align: top;\n",
       "    }\n",
       "\n",
       "    .dataframe thead th {\n",
       "        text-align: right;\n",
       "    }\n",
       "</style>\n",
       "<table border=\"1\" class=\"dataframe\">\n",
       "  <thead>\n",
       "    <tr style=\"text-align: right;\">\n",
       "      <th></th>\n",
       "      <th>index</th>\n",
       "      <th>Job Title</th>\n",
       "    </tr>\n",
       "  </thead>\n",
       "  <tbody>\n",
       "    <tr>\n",
       "      <th>0</th>\n",
       "      <td>Data Scientist</td>\n",
       "      <td>274</td>\n",
       "    </tr>\n",
       "    <tr>\n",
       "      <th>1</th>\n",
       "      <td>Data Engineer</td>\n",
       "      <td>260</td>\n",
       "    </tr>\n",
       "    <tr>\n",
       "      <th>2</th>\n",
       "      <td>Data Analyst</td>\n",
       "      <td>246</td>\n",
       "    </tr>\n",
       "    <tr>\n",
       "      <th>3</th>\n",
       "      <td>Senior Data Scientist</td>\n",
       "      <td>91</td>\n",
       "    </tr>\n",
       "    <tr>\n",
       "      <th>4</th>\n",
       "      <td>Senior Data Analyst</td>\n",
       "      <td>47</td>\n",
       "    </tr>\n",
       "    <tr>\n",
       "      <th>...</th>\n",
       "      <td>...</td>\n",
       "      <td>...</td>\n",
       "    </tr>\n",
       "    <tr>\n",
       "      <th>2074</th>\n",
       "      <td>Phoenix Data Science Tutor Jobs</td>\n",
       "      <td>1</td>\n",
       "    </tr>\n",
       "    <tr>\n",
       "      <th>2075</th>\n",
       "      <td>Civil Engineer/GIS Data Analyst</td>\n",
       "      <td>1</td>\n",
       "    </tr>\n",
       "    <tr>\n",
       "      <th>2076</th>\n",
       "      <td>Principal Device Modeling Engineer</td>\n",
       "      <td>1</td>\n",
       "    </tr>\n",
       "    <tr>\n",
       "      <th>2077</th>\n",
       "      <td>SQL/SAS Data Analyst</td>\n",
       "      <td>1</td>\n",
       "    </tr>\n",
       "    <tr>\n",
       "      <th>2078</th>\n",
       "      <td>Patient Safety Physician or Safety Scientist -...</td>\n",
       "      <td>1</td>\n",
       "    </tr>\n",
       "  </tbody>\n",
       "</table>\n",
       "<p>2079 rows × 2 columns</p>\n",
       "</div>"
      ],
      "text/plain": [
       "                                                  index  Job Title\n",
       "0                                        Data Scientist        274\n",
       "1                                         Data Engineer        260\n",
       "2                                          Data Analyst        246\n",
       "3                                 Senior Data Scientist         91\n",
       "4                                   Senior Data Analyst         47\n",
       "...                                                 ...        ...\n",
       "2074                    Phoenix Data Science Tutor Jobs          1\n",
       "2075                    Civil Engineer/GIS Data Analyst          1\n",
       "2076                 Principal Device Modeling Engineer          1\n",
       "2077                               SQL/SAS Data Analyst          1\n",
       "2078  Patient Safety Physician or Safety Scientist -...          1\n",
       "\n",
       "[2079 rows x 2 columns]"
      ]
     },
     "execution_count": 6,
     "metadata": {},
     "output_type": "execute_result"
    }
   ],
   "source": [
    "job_title = df['Job Title'].value_counts().reset_index()\n",
    "job_title"
   ]
  },
  {
   "cell_type": "code",
   "execution_count": 7,
   "metadata": {},
   "outputs": [
    {
     "name": "stdout",
     "output_type": "stream",
     "text": [
      "                                                data\n",
      "0  Senior Data Scientist ABOUT HOPPER\\n\\nAt Hoppe...\n",
      "1  Data Scientist, Product Analytics At Noom, we ...\n",
      "2  Data Science Manager Decode_M\\n\\nhttps://www.d...\n",
      "3  Data Analyst Sapphire Digital seeks a dynamic ...\n",
      "4  Director, Data Science Director, Data Science ...\n"
     ]
    }
   ],
   "source": [
    "# Create a new column called 'data' and merge the values of the other columns into it\n",
    "df['data'] = df[['Job Title', 'Job Description', 'Industry', 'Sector']].apply(lambda x: ' '.join(x.dropna().astype(str)), axis=1)\n",
    "# Drop the individual columns if you no longer need them\n",
    "df.drop(['Job Title', 'Job Description', 'Industry', 'Sector'], axis=1, inplace=True)\n",
    "# Preview the updated dataframe\n",
    "print(df.head())"
   ]
  },
  {
   "cell_type": "markdown",
   "metadata": {},
   "source": [
    "#### 3. Tokenize data\n",
    "We tokenize the words in the 'data' column and tag them with unique identifiers using the TaggedDocument class."
   ]
  },
  {
   "cell_type": "code",
   "execution_count": 8,
   "metadata": {
    "id": "sCAMBUD8Sorw"
   },
   "outputs": [],
   "source": [
    "# Tag data\n",
    "data = list(df['data'])\n",
    "tagged_data = [TaggedDocument(words = word_tokenize(_d.lower()), tags = [str(i)]) for i, _d in enumerate(data)]"
   ]
  },
  {
   "cell_type": "markdown",
   "metadata": {},
   "source": [
    "#### 4. Model initialization and vocabulary buiding\n",
    "Next, we initialize the Doc2Vec model with specific parameters.\n",
    "\n",
    "**Parameters** of Doc2Vec are as follows: \n",
    "\n",
    "- `vector_size`: Dimensionality of the feature vectors. Default: 100.\n",
    "- `window`: The window refers to the maximum distance between the target word and its context words within a sentence. Default: 5.\n",
    "- `min_count`: Ignores all words with a total frequency lower than this. Default: 5.\n",
    "- `epochs`: Number of iterations (epochs) over the corpus. Defaults to 5 for PV-DBOW and 10 for PV-DM.\n",
    "- `dm`: Defines the training algorithm. If `dm = 1`, the Distributed Memory (PV-DM) model is used. If `dm = 0`, the Distributed Bag of Words (PV-DBOW) model is used. Default: 1 (PV-DM).\n",
    "- `dbow_words`: If set to 1, trains word vectors (in addition to document vectors) using the PV-DBOW algorithm. Default: 0 (False).\n",
    "- `dm_mean`: If set to 1, uses the mean of the context word vectors instead of concatenation when inferring vectors in the PV-DM model. Default: 0 (False).\n",
    "- `dm_concat`: If set to 1, concatenates the document and context word vectors when inferring vectors in the PV-DM model. Default: 0 (False).\n",
    "- `dm_tag_count`: Expected number of document tags per document, when using the PV-DM algorithm. Default: 1.\n",
    "- `dbow_tag_count`: Expected number of document tags per document, when using the PV-DBOW algorithm. Default: 1.\n",
    "- `alpha`: The initial learning rate. Default: 0.025.\n",
    "- `min_alpha`: The learning rate will linearly drop to `min_alpha` as training progresses. Default: 0.0001.\n",
    "- `hs`: If set to 1, hierarchical softmax activation function will be used. Default: 0 (Negative Sampling).\n",
    "- `negative`: If > 0, negative sampling will be used, the int for negative specifies how many \"noise words\" should be drawn. Default: 5.\n",
    "- `ns_exponent`: The exponent used to shape the negative sampling distribution. Default: 0.75.\n"
   ]
  },
  {
   "cell_type": "code",
   "execution_count": 9,
   "metadata": {
    "id": "pN_H6onBTamK"
   },
   "outputs": [],
   "source": [
    "# Model initialization\n",
    "model = Doc2Vec(vector_size = 50,\n",
    "min_count = 5,\n",
    "epochs = 10,\n",
    "alpha = 0.001\n",
    ")"
   ]
  },
  {
   "cell_type": "code",
   "execution_count": 10,
   "metadata": {
    "id": "Sv_Mtx4OWFgF"
   },
   "outputs": [
    {
     "name": "stdout",
     "output_type": "stream",
     "text": [
      "11885\n"
     ]
    }
   ],
   "source": [
    "# Vocabulary building\n",
    "model.build_vocab(tagged_data)\n",
    "# Get the vocabulary keys\n",
    "keys = model.wv.key_to_index.keys()\n",
    "# Print the length of the vocabulary keys\n",
    "print(len(keys))"
   ]
  },
  {
   "cell_type": "markdown",
   "metadata": {},
   "source": [
    "#### 5. Train and save the model\n",
    "Train the model on tagged data."
   ]
  },
  {
   "cell_type": "code",
   "execution_count": 11,
   "metadata": {
    "id": "0jwx4eNAWYrI"
   },
   "outputs": [
    {
     "name": "stdout",
     "output_type": "stream",
     "text": [
      "Training epoch 1/10\n",
      "Training epoch 2/10\n",
      "Training epoch 3/10\n",
      "Training epoch 4/10\n",
      "Training epoch 5/10\n",
      "Training epoch 6/10\n",
      "Training epoch 7/10\n",
      "Training epoch 8/10\n",
      "Training epoch 9/10\n",
      "Training epoch 10/10\n",
      "Model saved\n"
     ]
    }
   ],
   "source": [
    "# Train the model\n",
    "for epoch in range(model.epochs):\n",
    "    print(f\"Training epoch {epoch+1}/{model.epochs}\")\n",
    "    model.train(tagged_data, \n",
    "                total_examples=model.corpus_count, \n",
    "                epochs=model.epochs)\n",
    "\n",
    "model.save('cv_job_maching.model')\n",
    "print(\"Model saved\")"
   ]
  },
  {
   "cell_type": "markdown",
   "metadata": {},
   "source": [
    "#### 6. Create perfect resumes for validation"
   ]
  },
  {
   "cell_type": "code",
   "execution_count": 15,
   "metadata": {},
   "outputs": [],
   "source": [
    "# Load the spaCy English language model\n",
    "nlp = spacy.load(\"en_core_web_sm\")\n",
    "\n",
    "# Extract Job Requirements\n",
    "def extract_requirements(job_description):\n",
    "    # Use spaCy to extract skills, experience, and education\n",
    "    doc = nlp(job_description)\n",
    "    skills = extract_skills(doc)\n",
    "    experience = extract_experience(doc)\n",
    "    education = extract_education(doc)\n",
    "\n",
    "    return {\n",
    "        'skills': skills,\n",
    "        'experience': experience,\n",
    "        'education': education\n",
    "    }\n",
    "\n",
    "def extract_skills(doc):\n",
    "    # Define patterns to match skills\n",
    "    skill_patterns = [\n",
    "        [{'POS': 'NOUN'}, {'LOWER': 'skills'}],\n",
    "        [{'POS': 'NOUN'}, {'LOWER': 'experience'}, {'LOWER': 'in'}]\n",
    "    ]\n",
    "    matcher = Matcher(nlp.vocab)\n",
    "    matcher.add(\"SKILLS\", skill_patterns)\n",
    "\n",
    "    skills = []\n",
    "    matches = matcher(doc)\n",
    "    for match_id, start, end in matches:\n",
    "        span = doc[start:end]\n",
    "        skills.append(span.text)\n",
    "\n",
    "    return skills\n",
    "\n",
    "def extract_experience(doc):\n",
    "    # Define patterns to match experience requirements\n",
    "    exp_patterns = [\n",
    "        [{'LOWER': 'experience'}, {'POS': 'NUM'}, {'LOWER': 'years'}],\n",
    "        [{'LOWER': 'minimum'}, {'POS': 'NUM'}, {'LOWER': 'years'}, {'LOWER': 'experience'}]\n",
    "    ]\n",
    "    matcher = Matcher(nlp.vocab)\n",
    "    matcher.add(\"EXPERIENCE\", exp_patterns)\n",
    "\n",
    "    experience = []\n",
    "    matches = matcher(doc)\n",
    "    for match_id, start, end in matches:\n",
    "        span = doc[start:end]\n",
    "        experience.append(span.text)\n",
    "\n",
    "    return experience\n",
    "\n",
    "def extract_education(doc):\n",
    "    # Define patterns to match education requirements\n",
    "    edu_patterns = [\n",
    "        [{'LOWER': 'degree'}, {'POS': 'NOUN'}],\n",
    "        [{'LOWER': 'bachelor'}, {'POS': 'NOUN'}],\n",
    "        [{'LOWER': 'master'}, {'POS': 'NOUN'}]\n",
    "    ]\n",
    "    matcher = Matcher(nlp.vocab)\n",
    "    matcher.add(\"EDUCATION\", edu_patterns)\n",
    "\n",
    "    education = []\n",
    "    matches = matcher(doc)\n",
    "    for match_id, start, end in matches:\n",
    "        span = doc[start:end]\n",
    "        education.append(span.text)\n",
    "\n",
    "    return education"
   ]
  },
  {
   "cell_type": "code",
   "execution_count": 16,
   "metadata": {},
   "outputs": [],
   "source": [
    "# Fill the Resume Template\n",
    "def fill_resume_template(job_description, template):\n",
    "    # Extract requirements from job description\n",
    "    requirements = extract_requirements(job_description)\n",
    "\n",
    "    # Fill the template with the requirements\n",
    "    resume = template.copy()\n",
    "    resume['Skills'] = ', '.join(requirements['skills'])\n",
    "    resume['Work Experience'] = [create_work_experience(req, requirements['skills']) for req in requirements['experience']]\n",
    "    resume['Education'] = create_education(requirements['education'][0]) if requirements['education'] else None\n",
    "\n",
    "    # Add relevant sections for data science roles\n",
    "    resume['Programming Languages'] = ', '.join(get_programming_languages(requirements['skills']))\n",
    "    resume['Data Science Skills'] = ', '.join(get_data_science_skills(requirements['skills']))\n",
    "    resume['Tools & Technologies'] = ', '.join(get_tools_and_technologies(requirements['skills']))\n",
    "\n",
    "    # Differentiate resumes based on specific requirements\n",
    "    resume['Domain Expertise'] = ', '.join(get_domain_expertise(job_description))\n",
    "    resume['Specialized Skills'] = ', '.join(get_specialized_skills(job_description))\n",
    "\n",
    "    return resume\n",
    "\n",
    "def create_work_experience(experience_requirement, skills):\n",
    "    # Parse the experience requirement\n",
    "    match = re.search(r'(\\d+)\\s*years', experience_requirement, re.I)\n",
    "    if match:\n",
    "        years = int(match.group(1))\n",
    "        position = 'Data Scientist' if 'data scientist' in experience_requirement.lower() else 'Relevant Position'\n",
    "        return {\n",
    "            'Position': position,\n",
    "            'Company': 'Relevant Company',\n",
    "            'Duration': f'{years} years',\n",
    "            'Responsibilities': ', '.join(skills)\n",
    "        }\n",
    "    return None\n",
    "\n",
    "def create_education(education_requirement):\n",
    "    # Parse the education requirement\n",
    "    degree_match = re.search(r'(bachelor|master|phd)\\s*(degree|\\'s)', education_requirement, re.I)\n",
    "    if degree_match:\n",
    "        degree_type = degree_match.group(1).capitalize()\n",
    "        return {\n",
    "            'Degree': f'{degree_type} Degree',\n",
    "            'Field': 'Data Science, Statistics, Computer Science, or related field',\n",
    "            'University': 'Relevant University'\n",
    "        }\n",
    "    return None\n",
    "\n",
    "def get_programming_languages(skills):\n",
    "    languages = ['Python', 'R', 'SQL', 'Java', 'C++', 'C', 'Scala']\n",
    "    return [lang for lang in languages if lang.lower() in [skill.lower() for skill in skills]]\n",
    "\n",
    "def get_data_science_skills(skills):\n",
    "    data_science_skills = ['Machine Learning', 'Statistical Modeling', 'Data Analysis', 'Data Visualization',\n",
    "                           'Deep Learning', 'Natural Language Processing', 'Computer Vision', 'Reinforcement Learning']\n",
    "    return [skill for skill in data_science_skills if any(s.lower() in skill.lower() for s in skills)]\n",
    "\n",
    "def get_tools_and_technologies(skills):\n",
    "    tools_and_technologies = ['Pandas', 'NumPy', 'Scikit-learn', 'TensorFlow', 'Spark', 'Hadoop', 'Hive', 'Impala',\n",
    "                              'MapReduce', 'Pig', 'MongoDB', 'Postgres', 'NoSQL', 'Beautifulsoup', 'Selenium', 'Scrapy',\n",
    "                              'HTML5', 'JavaScript', 'CSS', 'R Shiny', 'Tableau']\n",
    "    return [tool for tool in tools_and_technologies if any(s.lower() in tool.lower() for s in skills)]\n",
    "\n",
    "def get_domain_expertise(job_description):\n",
    "    domains = ['Healthcare', 'Finance', 'Retail', 'Marketing', 'Telecommunications', 'Manufacturing', 'Energy',\n",
    "               'Transportation', 'Government', 'Defense', 'Security']\n",
    "    return [domain for domain in domains if domain.lower() in job_description.lower()]\n",
    "\n",
    "def get_specialized_skills(job_description):\n",
    "    specialized_skills = ['Recommender Systems', 'Natural Language Processing', 'Computer Vision', 'Time Series Analysis',\n",
    "                          'Forecasting', 'Clustering', 'Ensemble Methods', 'Bayesian Methods', 'Neural Networks',\n",
    "                          'Deep Learning', 'Reinforcement Learning', 'Collaborative Filtering', 'Web Scraping']\n",
    "    return [skill for skill in specialized_skills if any(s.lower() in job_description.lower() for s in skill.split())]\n"
   ]
  },
  {
   "cell_type": "code",
   "execution_count": 18,
   "metadata": {},
   "outputs": [],
   "source": [
    "# Create a Resume Template\n",
    "resume_template = {\n",
    "    'Personal Information': {\n",
    "        'Name': '',\n",
    "    },\n",
    "    'Skills': '',\n",
    "    'Work Experience': [],\n",
    "    'Education': {},\n",
    "}"
   ]
  },
  {
   "cell_type": "code",
   "execution_count": 19,
   "metadata": {},
   "outputs": [],
   "source": [
    "# Generate Perfect Resumes\n",
    "perfect_resumes = []\n",
    "for job_description in df['data']:\n",
    "    perfect_resume = fill_resume_template(job_description, resume_template)\n",
    "    perfect_resumes.append(perfect_resume)"
   ]
  },
  {
   "cell_type": "markdown",
   "metadata": {
    "id": "XFXCiT8GWgdP"
   },
   "source": [
    "#### 7. Inputs of CV and JD"
   ]
  },
  {
   "cell_type": "markdown",
   "metadata": {},
   "source": [
    "- **Resume**:\n",
    "\n",
    "Get a random resume from our resume dataset"
   ]
  },
  {
   "cell_type": "code",
   "execution_count": 25,
   "metadata": {
    "id": "BK-fllx0WglI"
   },
   "outputs": [
    {
     "name": "stdout",
     "output_type": "stream",
     "text": [
      "Kashyap K. VoraPhone: 201-532-6397. Email: kashyapkvora@gmail.com__________________________________________________________________________________________________Professional SummaryOverall 10 years of experience as Sr. Technical Business System Analyst (Technical BSA) in Information Technology industry with focus on Data Analysis, Information & Data Management, Service-Oriented Architecture (SOA), Data Mapping & Data Modeling, Business Process Improvement, System Analysis & Design; expertise in implementation of IT projects using Project Management methodologies. Extensive experience in diversified industry sectors including Healthcare, Life Insurance, Personal & Commercial Insurance, Property & Casualty Insurance, Telecommunication, Retail & e-Commerce (Web Merchandising), Commercial & Investment Banking and Credit Card services.Strong skills in Data Warehouse Design using Star Schema roll out for the fact and dimension tables. Design of cubes, partitions and aggregations with excellent knowledge of Type 2 Data modeling.Expertise in application development with Full Lifecycle implementation of large Data Warehouse including Project Scope, requirements gathering, Star Schema Design, Snowflake Schema, Data Modeling and ODS.Strong experience in Data Analysis, Data Migration, Data Cleansing, Transformation, Integration, Data Import, and Data Export through the use of multiple ETL tools such as Informatica PowerCenter.Strong practical knowledge of analytical techniques and methodologies such as machine learning/supervised and unsupervised techniques, segmentation, mix and time series modeling, response modeling, lift modeling, experimental design, neural networks, data mining and optimization techniques. Expert knowledge of statistical analysis tools such as R-programming, MATLAB, Spark, SAS (Statistical Analysis System), R/Spark, Apache Hadoop and Cassandra.Strong background in applying statistical machine learning techniques to predictive modeling and experience with Machine Learning libraries (via R, H2O, Python, Spark, etc.). Proficiency in programming in Python, R-programming, SQL, JavaScript, Java/Scala/Ruby and shell scripting. Proficiency in consuming REST based API (with JSON payload). Fluency in big data platforms including Apache Hadoop, Apache MapReduce, Hive, Spark, and Pig. Familiarity with Cloud based HaaS/PaaS solutions such as AWS EMR (Amazon Web Services Elastic MapReduce), MS Azure. Strong understanding of data profiling and data cleansing techniques.Thorough knowledge of eCommerce architecture; ATG framework its functional limitations and the platform features, application capabilities, etc. including industry wide terminologies like B2B, B2C, C2B, C2C with its eCommerce categories and strong knowledge of PCI DSS (Payment Card Industry Data Security Standards) standards.Technical expertise in handling large-scale platform architecture, integrations, development using Java/J2EE Technologies. Experience on Oracle Commerce includes ATG Commerce, ATG Multisite, ATG Merchandising, and Content Management working in some of the key areas such as the Business Control Center (BCC), Profile Management, Shopping Cart, Checkout, Pricing, performance tuning, caching, infrastructure setup and Endeca. Strong knowledge of application and systems performance improvement techniques, integration technologies, approaches and patterns, Web APIs / Web Service API calls (SoapUI / SOAP, RESTful API, SOA, XML, HTTP like GET / PUT / POST / DELETE, JSON, BitTorrent, Web 2.0, etc.). Strong knowledge of security aspects like risks and threats, authentication, authorization, certificates, encryption. Experience in utilizing frameworks and re-usable components.Proficient in using Business Analysis tools such as MS Visio, Word, Excel (including Pivot tables, Macros and Vlookup), Rational Requiste Pro, ReqTrace Web, Caliber RM, Optimal Trace, ClearCase and ClearQuest.Proficiency in elaborating the Use cases, writing Test cases and preparing Requirement Traceability Matrices (RTM).Education: Master of Science in Engineering – New Jersey Institute of Technology (August 2008 to December 2009).Certification: Certified Data Scientist i.e. Data Science Professional (from John Hopkins University).Technical Skills: Windows 95/98/NT/2000/XP/Vista/7, MS Visio, MS Access, MS Word, MS Excel, MS Project, Rational Rose Enterprise, IBM Rational Software Architect, Microsoft Project, Rational Requisite Pro, MS SQL Server 7.0/2000, PL/SQL, CSS (Cascading Style Sheet), OLTP & OLAP, Synon/2E, COBOL, IBM AS/400, CICS, Citrix, DB2, SAP ERP R/3 MMWM, SAP R/3 FICO, ERWIN Data Modeler 4.2/4.1/4.0, Business Objects XI r3, r2, r1, 6.5, 6.1, 5.x, 4.x, Crystal Reports XI, Informatica, HTML, Dream Weaver, MS FrontPage, IBM COGNOS (Report Studio, Query Studio, Framework Manager, Virtual View Manager, Business Insight Dashboard), Oracle BI Enterprise Edition (OBIEE), C#, C++, R Programming Language (Version 3.2.5), Minitab, XML, XSD, WSDL, X12, SAP PowerDesigner, SAP PowerBuilder, Analysis of Variance (ANOVA) and Experimental Design, Total Quality Management and Lean Six Sigma Manufacturing Methodologies, SAFe (Scaled Agile Framework) Practitioner, PMI’s PMBOK guidelines & standards, TOGAF (The Open Group Architecture Framework), IIBA’s BABOK guidelines & standards, Business Architecture Guild’s BIZBOK (Business Architecture Body of Knowledge) standards & guidelines, Enterprise Architecture Body of Knowledge (EABOK), Enterprise Information Architecture (EIA) framework.Professional ExperienceFidelity Investments (FMR) Smithfield, RI                               \t\t\t                                     Dec 2016 – CurrentDesignation: Principal Program Analyst / Technical Project ArchitectPrimary objective of the project was to address and resolve corporate Audit issue (Tier C) finding for the Enterprise Cybersecurity group on highly confidential Client Credentials (comprised of PII data) exposed into the server logs written by various Internal (employees within each business units, Broker – Dealer apps, 3rd party vendor apps) & External (customer / clients) Fidelity hosted applications, thereby applying log masking logic, data redaction techniques on these exposed keys within server logs physically located on multiple servers.Delivered elite level security solutions (for its Enterprise Cybersecurity business group) which essentially protects Fidelity and its customer's valuable information. Interacted with stakeholders, facilitated multiple fusion sessions and delivered the end results of work that provide the necessary requirements to the delivery team which thereby built and supported technology solutions.Worked as part of the Customer Protection Program, directly with Program and Project Managers as well as technology and business partners.Worked with tools such as Jira and Confluence to provide transparency of scope. Worked with our delivery team(s) including QA Data Services and engineering to ensure that we are meeting the needs of our stakeholders plus delivered solid, quality products to production. Supported Program and Project managers including providing input to/creation of strategy and execution plans and input to project status. Point person to escalate risks, change requests and participated in corrective actions (path to green).Performed server logs analysis on Linux and Unix servers used by enterprise wide business units, thereby leveraged Splunk GUI tool to read and extrapolate pertinent meta data from these server logs. Used tools like Jira, ITEC PPMC, Confluence, etc. to track, monitor, delegate tasks / activities, operate different project aspects and functions.Derived insights out of ambiguity – understood, processed and interpreted complex data sets. Analyzed complex business data & identified patterns in the data using algorithms from statistics and machine learning. Developed and improved algorithms and methodologies to handle, browse, process and visualize structured and unstructured data.Translated Business requirements, business rules and business criteria to system specifications and system requirements thereby preparing SRS (System Requirement Specifications) and PRS (Performance Requirement Specifications).Environment: MS Office Suite Package, MS Visio 2013 Pro, MS Excel Pivot Tables, MS Excel Functions & Formulas, MS Excel VLookUp, MS Excel Macros, Splunk Enterprise 6.5 (Splunk GUI Tool), Oracle 11g, IBM DB2, CyberArk EIAM (Enterprise Identity & Access Management), IBM InfoSphere Optim Data Privacy, ServiceNow, VMWare Tools, Oracle 11g Client 11.2.0.2 r01.02, Quest TOAD for Oracle, MS Access, Informatica Power Center, MS SQL Server, ITEC (IT Enablement Center) ALM (Application LifeCycle Management), Atlassian Confluence, ITEC (IT Enablement Center) Atlassian JIRA, Document Central, IBM DB2 Advanced Recovery Expert, IBM DB2 Merge BackUp, HP ITEC (IT Enablement Center) PPMC (Project & Portfolio Management Center).Verizon Wireless, Warren, NJ                               \t  \t\t\t\t\t\t    May 2016 – Dec 2016Designation: Sr. Technical Business System Analyst / Technical Project ManagerThe prime objective of the IoT (Internet Of Things), ReSale, M2M (Machine to Machine) portfolio was to utilize the core capabilities within MCS (Mobile Content Solutions) application suite module in order to web merchandise the non-tangible (like Licenses and Professional Services components within a cart) Items / SKUs through frontend Omni-channels; thereby foster & grow B2B (Business To Business), B2C (Business To Customer) business models from enterprise’s strategic viewpoint and generate billing events at Account / Customer level from backend system application.Authored, owned, managed and maintained 1Pagers to give brief overview of the products / services to be created and maintained in our MCS / SCM portal. Facilitated meeting sessions with Product Managers, Product Owners, Architectures and Analyst to hash out visio IoT (Internet of Things) Vendor flows, Order Fulfillment Flows and Order Processing Flows.Planned, created, designed, managed and baselined draft high-level Project Scope, In-Scope & Out-Scope Functionalities, Draft SLAs (for 3rd party vendors / partners), Baseline Project Timelines & Gantt Chart at project implementation level with external 3rd party vendors / partners (in order to accomplish System Integration Testing [SIT] milestone) system application.Defined, designed and elicited core business objectives in order to deliver qualitative product, program and project with optimum utilization and the most efficient use of enterprise resources.Managed project charter, project plans, scope statement, project execution, risk mitigation, contingency plan and achievement of project and program objectives. Managed SIT & UAT test activities by ensuring defects are logged accurately in JIRA and issues resolved appropriately.Created, aligned and logged EPICS, User Stories / Features, Tasks (Development, Infrastructure & QA Tasks), Bugs, Defects, BRs (Build Requests), DRs (Deployment Requests), Issues, etc. in JIRA tool.Strong knowledge of Unix commands and running those Unix commands in various boxes to validate server logs.Effectively and lucidly communicated project risks, issues (especially launch gating), dependencies, progress status, launches, concerns and retrospectives in structured RAID template designed and choreographed by me.Environment: Activiti BPM, XML Spy, RestFUL API, SoapUI, HP Quality Center ALM (Application Lifecycle Management) 12.20 & 12.01, Quest Toad For Oracle 12.0 (64bit), Programmer’s Notepad, PuTTY.exe, JIRA, CA’s Clarity PPM, Cloudsite SharePoint, Confluence document repository, APEX Search Client RealTime application, DB2 AppDevClient 9.7, MS Office Project Standard 2007, MS Office Standard 2007, MS Office Visio Standard, Open Source XML tools, Oracle Client 11g R2 11.2.0.1.0, Techsmith’s SnagIT Editor 12, SQL Developer 4.1.3.Chubb Insurance / Chubb Group of Insurance Companies, Whitehouse Station, NJ                            July 2015 – May 2016Designation: Sr. Technical Business System Analyst / Project ArchitectThe purpose of the Client Integration initiative is to be able to view and manage PRS’ business at the client / household / account level in an integrated fashion so that we can make better and faster underwriting decisions, more effectively market and communicate with existing and potential clients, price across clients and deliver better customer service. Integrate PLS & ORCA into the Chubb Client MDM/UI in order to provide an integrated household policy portfolio view across key Chubb Policy Admin Systems for Personal Lines segment, along with the other legacy Chubb’s disparate policy admin systems like MasterPiece, CAAS & Yacht.Created and documented roadmap for meetings with ACE. Baselined documents used for source to target mapping. Understanding CHUBB's system and applications i.e. Target system for CLIENT INT project.Designed, developed and maintained consistency of the Pre-landing and Landing tables “Generic Landing Layout” file / sheet that the core execution team leveraged for Source To Target Mapping sessions. Created and documented High Level Data Movement and Data Flow diagrams, High Level & Detailed Conceptual Architecture diagrams using BPMN (Business Process Model and Notation) standards encapsulating every system components within visio flows. Conducted thorough analysis on CPI data models for Subject Of Insurance, Policy, Policy Term, Business Party schemas.Confirmed on the mapping performed within “ORCA Policy Status Mapping” sheet for “Transaction Status” type and “Contract Status” type. Confirmed the data points in “Match Columns” column for the “Match Rules” from “Client INT ORCA Match Rules” sheet. Gave an overview on “System Triggers” and introduced team on triggers. Integrated Survivorship Rules for 6 Personal Lines Systems. Overview of “Survivorship Rules” (like “What is Survivorship and what does it mean to MDM process & Client UI application?”) and introduce team to “Survivorship / Survival Rules Matrix” sheet.Was responsible for identifying and documenting business rules and creating detailed Use Cases, Use Case models, Use Case diagrams and Object Oriented Analysis and Designs (OOAD) using UML (Unified Modeling Language).Prepared ER Diagrams, documented Data Dictionary, identified database schemas, its data elements/fields, and studied their nomenclatures from the identified columns, for phased deliverables. Environment: Informatica Data Director (IDD), Informatica Analyzer, DB2, Informatica Power Center, MDM, Oracle 11g, Information Builder’s WebFocus 8, IBM Cognos Report Studio 10, IBM Lotus Notes, CICS, Cobol, Oracle SQL Server, MS Visio, MS Office Suite, MasterPiece, Guidewire policy admin system, CAAS, Yacht, PLS, ORCA, DRC, SharePoint.Bed Bath and Beyond, Union, NJ                                          \t\t\t\t\t                   July 2014 – July 2015Designation: Lead Technical Business System Analyst / Technical Product ManagerPrime focus of the EXIM/Universal Cart was to have the ability to export products/items from BBBY’s online channels (both desktop & mobile applications) to 3rd party vendor sites that offer personalization and/or customization services (like monogramming, etching, sublimation/printing etc.) not currently available on BBBY’s sites/concepts (concepts like BBBY-US, BBBY-Canada, BuyBuyBaby, Christmas Tree Shops, etc.).Performed requirements gathering & analysis by actively soliciting, examining, investigating and negotiating customer requirements with business directors and Product Development Managers, while leading the technical requirements analysis and driving the system design and construction. Performed extensive SKU to Product relationship mapping at UPC level, SKU/item level, Product level, Collection & Accessories level, etc. Thereby understood cardinality between SSWPs (Single SKU Web Products) and MSWPs (Multi SKU Web Products) and process by which they are “Web Enabled” and “Web Disabled” for “Digital Merchandising”.Conducted numerous impact analysis sessions, thereby analyzing the behavior of multiple features & functionalities on different web pages like PLP (Product List Page – Grid View & List View), PDP (Product Detail Page), Quick View, Collection & Accessories, Your Cart page, Single Shipping & Multi Shipping Location, Order Confirmation, Order Preview, Order History, Track Order, etc. and on the user CTA (Call to Action) button (buttons like Add to Cart, Add to Registry, Save for Later, Find in Store).Created / Documented, managed, controlled and delivered user stories, features and functionalities in form of Story or Functional Requirements (i.e. formal FRD) within the CCM & RM tools respectively. Updated the tools with appropriate COS (Condition of Satisfaction) / Acceptance Criteria, Story Title, Card, Conversation, Assumptions etc. by following standardized Agile SCRUM methodology/process.Also created / documented, managed, controlled and delivered Epic, Features, Story, Tasks, Spikes by breaking these out appropriately and then tie them back to the concerned Feature and Story within the RM (Requirements Management) tool.Collaborated with the development team to enforce the implementation of requirements throughout the entire coding cycle and managed change request using Rational Clear Quest.Environment: IBM’s Rational Tools, IBM Requirement Management Tool, IBM Change & Configuration Management Tool, RMTrack – Defect Tracking, JIRA, ATG eCommerce Platform, TIBCO, Riversand’s PIM (Product Information Management), Tableau, QlikView, STIBO’s PDM (Product Data Master), Web2.0, Oracle SQL Server Developer, Microstrategy, Oracle Endeca, UNIX, Java, .Net.Maryland Department of Health & Mental Hygiene / CSC - CNSI, Baltimore, MD                                  Jan 2013 – July 2014Designation: Sr. Technical Business System Analyst / BI Reporting LeadThe prime objective of the project is to replace the current MMIS Claims processing system for DHMH, with a web-based Service Oriented Solution consistent with MITA 2.0 (Medicaid Information Technology Architecture) guidelines that has online web capabilities for all Users including Providers and Recipients/Beneficiaries. The system’s User Interface intent was to provide the capability for online data entry for Provider Enrollment applications; track and automate Workflow Management of the process; and online verification of Provider Enrollment status.Reviewed, analyzed, evaluated business processes and associated IT application requirements. Analyzed business workflow and system needs for conversions and migrations; performed data mapping and data conversions.Identified specifications for billing and accounts receivable requirements, performed gap analysis & presented information to technical team to identify system requirements. Worked extensively with developing business rules engine enabling the business rules such as referral, prior authorization, eligibility, claims processing and billing essential.Involved in implementation of HIPAA EDI Transactions (835, 837). Facilitated Electronic Data Interchange (EDI). Performed GAP Analysis for HIPAA 4010 and 5010 transactions. Used EDI tools to verify mapping to X12 format. Recommended changes for system design, methods, procedures, policies and workflows affecting Medicare / Medicaid claims processing in compliance with government compliant processes like HIPAA / EDI formats and accredited standards ANSI. Analyzed HIPAA EDI transactions in X12 responses and of 837, 835, 277CA and 999 and looked for defects.Recommended changes for system design, methods, procedures, policies and workflows affecting Medicare/Medicaid claims processing in compliance with government compliant processes like HIPAA/ EDI formats and accredited standards ANSI.Conducted detail oriented analysis on the current “AS-IS” Maryland MMIS legacy system and driving iterative GAP analysis sessions for the same to propose the effective target “TO-BE” MMIS system.Designed Dashboards/Reports using the Oracle Business Intelligence Analytics platform for requirement analysis and data analytics. Enhanced performance of Reports / Dashboards by implementing the Aggregate tables, Materialized Views, Table partitions, re-building of indexes and managing Cache etc.Responsible for processing Medicaid claims in a workflow environment. Accurately interpreted benefit & policy provisions applicable to Medicaid enrollees. Reviewed & resolved claim edits using multiple systems, processes and procedures.Environment: MMIS / CMS Regulations, HIPAA Privacy, Wire Framing, UML, SCRUM, eCAMS & ProviderOne (CNSI owned & developed Claims Administration System), iLotus Notes, IBM COGNOS 10 Report Studio, Oracle Financials, JIRA (Defect Tracking Tool), ReqTrace Web 2.1, Oracle SQL Developer, J2EE, .NET, Oracle ODBC, Oracle BI Enterprise Edition 11g, MS Office Suite, MS Excel, MS Project, SharePoint, Service Oriented Architecture (SOA), RUP (For MMIS Development), Informatica PowerCenter, Enterprise Architect 10 UML (SPARX System’s EA Visual Modeling Platform).Medco Health Solutions Inc. / Express Scripts Inc., Franklin Lakes, NJ                                                       Oct 2011 – Jan 2013Designation: Sr. Technical Business System AnalystThe purpose of the project was to report the back-end Teradata IW databases utilizing the front-end Cognos BI reporting tool for the Medicare Part D claims Adjustments & Reconciliation and Operations Workbook business process. This project involved creation of a Medicare, Medicaid Solutions (MMMS) dashboard that included views from various channels, operational divisions and products within the Medicare organization.Gathered all the Reporting Requirements and functional requirements through JAD sessions, formal interviews and brain storming sessions from the Business Owners and stakeholders based on the project scope and documented it in form of FRDs and Use-Cases in CaliberRM / Optimal Trace.Conducted JAD sessions with different Business Users to develop new policies and procedures for the Service Catalogue, Charge Capture and Service Worklist /Charge Router, Hospital billing, coding, special coding requirements for Medco Health / Express Scripts and Claim processing.Involved in analysis, design, and implementation of the following systems – Control Management Reporting and Security Systems: generation of daily, weekly, and monthly reports of hospital patients' activity. Medical Billing & Collection Systems: generation of daily billing activity based on patient records & establishment of collection protocols. Accounting Systems: Financial Statement generation and analysis according to government standards and protocols.Worked on EDI transactions: X12, 835, and 837 P.I to identify key data set elements for designated record set. Interacted with Claims, Payments and Enrollment hence analyzing and documenting related business processes.Involved in the System Analysis, Design and Development of the project. Integral part of end-to-end implementation of IW Reporting from capturing reporting requirements, Relational data modeling in Cognos, Metadata analysis, mock-up template designing and BI reporting system.Displayed in depth knowledge of Medicare/Medicaid Claims processes from Admin/Provider/Payer side which were later part of the training program to vendors. Worked on improvement of Claims Reimbursement User Interface for a better experience and incorporate changes as per HIPAA guidelines using the gap analysis.Identified the functional as well as technical needs of the department and accordingly engaged as liaison between the Upper Management and IT Team to develop Cognos based BI Reports, applications and softwares.Assisted in development of the reports using Cognos Report Studio and Framework Manager. Developed Forms, Reports and Queries using MS Access and Excel (including Pivot tables, Vlookup and Macros).Environment: SCRUM, RUP, SharePoint, Synon/2E, COBOL, IBM AS/400, IBM Cognos 10 (Report Studio, Query Studio, Framework Manager, Virtual View Manager, Business Insight Dashboard), UNIX, Microsoft SQL Server 2008, T-SQL, MS SQL Server, Teradata IW, BRIO Query Intelligence, MS Office Suite, MS Project, MS Visio, ERWIN, OiM (Oracle Identity Manager), ORACLE SQL Server Developer, Teradata, DB2, Informatica Powercenter, CA ERwin Data Modeler, Oracle BI Enterprise Edition 10g, PL/SQL, CAs ALL Fusion Harvest, HP Quality Center, EDI, XML, .CSV (Comma Delimited), Rational Clear Quest, Anchor DW, Foundation14 (F14), CaliberRM 64Bit Production, Optimal Trace, MagicDraw UML.CVS Caremark, Richardson, TX                                                                                   \t\t\t      Jan 2010 – Oct 2011Designation: Sr. Technical Business AnalystThe primary goal of the project is to extract common services such as Eligibility, Formulary, Drug Maintenance, etc. out of the disparate systems and host them independently to facilitate economy of operations, isolation of common business services from core adjudication transaction processing and externalize the data in a way that can be consumed by other external applications within the Organization. This will enable common services, tools and interfaces that can improve client experience and drive consistency regardless of which adjudication engine is used.Gathered, analyzed, documented business and technical requirements from both formal and informal sessions and validate the needs of the business stakeholders, thereby drafting the Technical Design Document (TDD) and System Specification Document (SSD).Designed and developed Use Cases and Use Case scenarios, Activity Diagrams, Sequence Diagrams, High Level and Low Level Process Flow Diagrams, OOAD using UML and Business Process Modeling. Understood client’s business needs related to operational payer departments (i.e. claims, enrollment, billing, etc.).Profiled data in the sources prior to defining the data cleaning rules. Perform small enhancements (data cleansing/data quality). Worked on various Professional billing and Hospital billing products.Designed and implemented unique platform, which collected and synchronized information of each person all in one place, including medical claims, lab results, self reported data and other relevant information and also in an efficient and effective manner.Responsible for preparing Business Requirement Document (BRD), Functional Requirement Document (FRD) and then translating into functional specifications and test plans. Closely coordinated with both business users and developers for arriving at a mutually acceptable solution.Developed project definitions, project scope, cost/benefit and risk analysis, work plans, daily and weekly progress reports, and presentations. Created and tested scripts for the premium calculations and claim limits and deductible.Reviewed the use cases, functions and features list, map the requirements to design, and update the Requirements Traceability Matrix (RTM). Created various reports such as billing payment reports, Billing Grouping Payment and discount reports.Responsible to give the payers the clear vision of claim life cycle from submission to CVS Caremark through payer adjunction. Designed & implemented a web based claims processing system & management application to administer and process health insurance claims automatically. It connected the organization to largest all-payer network of commercial & government health plans nationwide to provide wealth of real-time patient benefit information.Created source table definitions in the Data Stage Repository by studying the data sources by importing the data from Mainframe.Wrote PL/SQL statement and stored procedures in Oracle for extracting as well as writing data. Created and executed claims, enrollment and/or billing test scenarios, including defect tracking.Environment: RUP, SharePoint, Synon/2E, COBOL, IBM AS/400, CICS, Citrix, Cognos 8, DB2, SAP R/3 FICO, Microsoft SQL Server 2008, T-SQL, SSIS, SSRS, SSAS, MS Excel, MS Word, MS Access, MS Project, MS Visio, ERWIN, Data Stage, OiM (Oracle Identity Manager), Oracle, PL/SQL, PC Media, Oracle BI Enterprise Edition 10g, CAs ALL Fusion Harvest, EDIFECS, HP Quality Center, Velocedi/Claredi, EDI, XML, DIAMOND, COSMOS, FACETS, LOGISTICARE, Rational Rose, Bugzilla, Snagit, Adobe Acrobat Professional, HP Quality Center.BNP Paribas, Mumbai, India                                                                                             \t\t\t     July 2006 – Aug 2008Designation: Lead Technical Business Analyst                                                                                                                   The project was to report corporate data warehouse for online trading system. The reporting system was to capture the KPI such as the trade volumes, number of trades, on the counter trades, and exchange trades, broker dealer trades, trade fees with respect to dimensions such as customer’s location, security type, exchange traded Fees payables, etc.Gathered the business requirements from the managers through JAD sessions, formal interviews and surveys and worked extensively with the users and with different levels of management to identify requirements, business events to develop functional specifications.Analyzed the AS-IS and TO-BE processes to understand the key findings, the short term considerations, the long term considerations and its benefits.Owned the entire reporting process. Interacted with the ETL team, developer(s), management, and account holders to get the requirements, document them, design templates, and write specifications.Identified data elements from the source systems, performed data analysis to come up with data cleansing and integration rules for the ETL process using Informatica.Analyzed research on operational procedures and methods and recommended changes for improvement, with an emphasis on automation and efficiency.Performed analysis and design of applications using OOAD techniques, UML and Design Patterns.Gathered all the requirements from the stakeholders based on the project scope and documented it in RequisitePro.Conducted interviews with various business users and Subject Matter Experts (SMEs) to collect Requirements and business process information, using Requisite Pro exercised all the different types of views in Requisite Pro Attribute matrix.Involved in the testing phase right from the Unit testing to the User Acceptance testing.Documented existing and proposed process flow, analyzed current and target system, and conducted GAP analysis from the reporting requirements to the existing data in ODS.Environment: RUP, Requisite Pro, Data Stage, Rational Tools, Cognos 8, MS Project, MS Word, MS Excel, MS Visio, MS Office Suite, Rational Rose, Windows Vista, ERWIN, MS SQL Server, PL/SQL, SSIS, SSRS, SSAS, Crystal Reports XI.\n"
     ]
    }
   ],
   "source": [
    "# Get a list of all .docx resume files\n",
    "resumes = [f for f in os.listdir('./dataset/resumes') if f.endswith('.docx')]\n",
    "\n",
    "# Select a random .docx file\n",
    "random_resume = random.choice(resumes)\n",
    "\n",
    "# Create a Document object\n",
    "doc = Document(os.path.join('./dataset/resumes', random_resume))\n",
    "\n",
    "# Extract text\n",
    "resume = \"\"\n",
    "for para in doc.paragraphs:\n",
    "    resume += para.text\n",
    "    \n",
    "print(resume)"
   ]
  },
  {
   "cell_type": "markdown",
   "metadata": {},
   "source": [
    "- **Job Description**:\n",
    "\n",
    "Get a random JD from dataset"
   ]
  },
  {
   "cell_type": "code",
   "execution_count": 26,
   "metadata": {},
   "outputs": [
    {
     "name": "stdout",
     "output_type": "stream",
     "text": [
      "Random JD: Senior Data Scientist - Nationwide Opportunities Want to help the largest global enterprises derive business value through the adoption of Artificial Intelligence (AI) and Machine Learning (ML)? Excited by using massive amounts of disparate data to develop ML models? Eager to learn to apply ML to a diverse array of enterprise use cases? Thrilled to be a part of Amazon who has been pioneering and shaping the worlds AI/ML technology for decades?\n",
      "\n",
      "\n",
      "At Amazon Web Services (AWS), we are helping large enterprises build ML models on the AWS Cloud. We are applying predictive technology to large volumes of data and against a wide spectrum of problems. AWS Professional Services works together with AWS customers to address their business needs using AI solutions.\n",
      "\n",
      "AWS Professional Services is a unique consulting team. We pride ourselves on being customer obsessed and highly focused on the AI enablement of our customers. If you have experience with AI, including building ML models, wed like to have you join our team. You will get to work with an innovative company, with great teammates, and have a lot of fun helping our customers. A successful candidate will be a person who enjoys diving deep into data, doing analysis, discovering root causes, and designing long-term solutions.\n",
      "\n",
      "This is a customer-facing role and you will be required to travel to client locations and deliver professional services as needed.\n",
      "\n",
      "\n",
      "Major responsibilities include:\n",
      "· Assist customers by being able to deliver a ML project from beginning to end, including understanding the business need, aggregating data, exploring data, building & validating predictive models, and deploying completed models with concept-drift monitoring and retraining to deliver business impact to the organization\n",
      "· Use AWS AI services (e.g., Personalize), ML platforms (SageMaker), and frameworks (e.g., MXNet, TensorFlow, PyTorch, SparkML, scikit-learn) to help our customers build ML models\n",
      "· Research and implement novel ML approaches, including hardware optimizations on platforms such as AWS Inferentia\n",
      "· Work with our other Professional Services consultants (Big Data, IoT, HPC) to analyze, extract, normalize, and label relevant data, and with our Professional Services engineers to operationalize customers models after they are prototyped\n",
      "\n",
      "\n",
      "Basic Qualifications\n",
      "\n",
      "· · Bachelors degree in a highly quantitative field (Computer Science, Machine Learning, Operational Research, Statistics, Mathematics, etc.) or equivalent professional or military experience\n",
      "· Experience with ML fields, e.g., natural language processing, computer vision, statistical learning theory\n",
      "· 6+ years of industry experience in predictive modeling, data science, and analysis\n",
      "· Experience in an ML engineer or data scientist role building ML models\n",
      "· Experience writing code in Python, R, Scala, Java, C++ with documentation for reproducibility\n",
      "· Experience handling terabyte size datasets, diving into data to discover hidden patterns, using data visualization tools, writing SQL, and working with GPUs to develop models\n",
      "· Experience writing and speaking about technical concepts to business, technical, and lay audiences and giving data-driven presentations\n",
      "\n",
      "\n",
      "Preferred Qualifications\n",
      "\n",
      "· · Maters degree of PhD in a highly quantitative field (Computer Science, Machine Learning, Operational Research, Statistics, Mathematics, etc.)\n",
      "· Ability to develop strategic, baselined, data modeling processes; ability to accurately determine cause-and-effect relationships.\n",
      "· Publications or presentations in recognized ML journals or conferences\n",
      "· Deep technical skills, consulting experience, and business savvy to interface with all levels and disciplines within our customers organization\n",
      "· Demonstrable track record of dealing well with ambiguity, prioritizing needs, and delivering results in a dynamic environment\n",
      "\n",
      "Amazon is committed to a diverse and inclusive workplace. Amazon is an equal opportunity employer and does not discriminate on the basis of race, national origin, gender, gender identity, sexual orientation, protected veteran status, disability, age, or other legally protected status. For individuals with disabilities who would like to request an accommodation, please visit https://www.amazon.jobs/en/disability/us.\n",
      "\n",
      "Pursuant to the Los Angeles Fair Chance Ordinance, we will consider for employment qualified applicants with arrest and conviction records. Internet Information Technology\n"
     ]
    }
   ],
   "source": [
    "# Select a random JD from the dataset\n",
    "random_jd = random.choice(df['data'])\n",
    "\n",
    "print(\"Random JD:\", random_jd)"
   ]
  },
  {
   "cell_type": "code",
   "execution_count": 27,
   "metadata": {},
   "outputs": [],
   "source": [
    "# Find the corresponding perfect resume for the random JD\n",
    "perfect_resume = perfect_resumes[df['data'].tolist().index(random_jd)]"
   ]
  },
  {
   "cell_type": "markdown",
   "metadata": {},
   "source": [
    "Input JD Input in text below"
   ]
  },
  {
   "cell_type": "code",
   "execution_count": 18,
   "metadata": {},
   "outputs": [
    {
     "name": "stdin",
     "output_type": "stream",
     "text": [
      "Paste your JD here:  DoITT provides for the sustained, efficient and effective delivery of IT services, infrastructure and telecommunications to enhance service delivery to New York City's residents, businesses, employees and visitors. As the City's technology leader, DoITT is responsible for maintaining the foundational IT infrastructure and systems that touch every aspect of City life from public safety to human services, from education to economic development crossing the full spectrum of governmental operations.    The CSCL database is a centralized database under the Emergency Communications Transformation Program (ECTP) intended to support the emergency response agencies as well as all other City agencies. This database is unique in its complexity and contains over 100 feature classes and tables, among which are represented all streets, addresses, transit infrastructure, schools and other public and private facilities.    The successful candidate will serve as a GIS Analyst reporting to the Application Development Management Division. Responsibilities will include:   â€¢\tDaily data maintenance and performance of both manual and automated Quality Assurance checks;   â€¢\tMaintenance of geospatial data using custom CSCL Maintenance tools within ESRI s ArcGIS Desktop software;   â€¢\tDaily administrative tasks specific to working with versioned data;   â€¢\tCommunication and coordination of edit work with other editors, both internally at DoITT and at other agencies  â€¢\tAnd perform special projects and initiatives as assigned.\n"
     ]
    }
   ],
   "source": [
    "# # JD by input text:\n",
    "# jd = input(\"Paste your JD here: \")"
   ]
  },
  {
   "cell_type": "code",
   "execution_count": 15,
   "metadata": {
    "id": "uMuC1hBtWqmr"
   },
   "outputs": [],
   "source": [
    "# jd = \"\"\"\n",
    "# Proactively engage with clients in the branch and deliver an outstanding service experience through completing transactions and by identifying opportunities for advice, solutions, digital enablement and partner introductions\n",
    "# Focus on education and demonstration, leverage technology to deliver a memorable client experience, drive solutions and retain business\n",
    "# Contribute to team results by listening and spotting opportunities to offer additional advice, introduce clients to the capability of RBC partners, or personally fulfil client solutions\n",
    "# Proactively take ownership of resolving and preventing client banking problems\n",
    "# Cultivate and maintain relationships with partners to work as one RBC team\n",
    "# Manage risks by adhering to compliance routines, processes, and controls to protect client and shareholder interests while completing transactions\n",
    "# What do you need to succeed?\n",
    "\n",
    "# Must-have\n",
    "\n",
    "# Goal-oriented individual with a demonstrated passion for putting clients first.\n",
    "# Drive and self-motivation, as well as excellent communication skills and emotional intelligence\n",
    "# Digital literacy across a broad range of devices (i.e., smartphones, tablets, laptops, etc.)\n",
    "# Personal flexibility to work flex hours\n",
    "# Eagerness to learn and determination to succeed\n",
    "# Confidence and ability to learn financial concepts and willingness to obtain the Investment Funds in Canada or the Canadian Securities Course\n",
    "# Nice-to-have\n",
    "\n",
    "# Track record in building rapport and maintaining client relationships within the financial, service or retail industry\n",
    "# Mutual Funds accreditation\n",
    "# Is this job right for you? Check out our video and decide for yourself!\n",
    "\n",
    "# What’s in it for you?\n",
    "\n",
    "# We thrive on the challenge to be our best, progressive thinking to keep growing, and working together to deliver trusted advice to help our clients thrive and communities prosper. We care about each other, reaching our potential, making a difference to our communities, and achieving success that is mutual.\n",
    "\n",
    "# A comprehensive Total Rewards Program including bonuses and flexible benefits, competitive compensation, commissions, and stock where applicable\n",
    "# A world-class training program in financial services\n",
    "# Excellent career development and access to a variety of job opportunities across business and geographies\n",
    "# Leaders who support your development through coaching and managing opportunities\n",
    "# Work in a dynamic, collaborative, progressive, and high-performing team\n",
    "# We also strive to provide an accessible candidate experience for our prospective employees with different abilities. Please let us know if you need any accommodations during the recruitment process.\n",
    "\n",
    "# Join our Talent Community\n",
    "\n",
    "# Stay in-the-know about great career opportunities at RBC. Sign up and get customized info on our latest jobs, career tips and Recruitment events that matter to you.\n",
    "\n",
    "# Expand your limits and create a new future together at RBC. Find out how we use our passion and drive to enhance the well-being of our clients and communities at rbc.com/careers.\n",
    "# \"\"\""
   ]
  },
  {
   "cell_type": "markdown",
   "metadata": {},
   "source": [
    "- **Develop a function to pre-process input text**:"
   ]
  },
  {
   "cell_type": "code",
   "execution_count": 28,
   "metadata": {
    "id": "nY1-Fn97WgoN"
   },
   "outputs": [],
   "source": [
    "def preprocess_text(text):\n",
    "    # Remove URLs\n",
    "    text = re.sub('http\\S+\\s*', ' ', text)\n",
    "\n",
    "    # Remove RT and cc\n",
    "    text = re.sub('RT|cc', ' ', text)\n",
    "\n",
    "    # Remove hashtags\n",
    "    text = re.sub('#\\S+', '', text)\n",
    "\n",
    "    # Remove mentions\n",
    "    text = re.sub('@\\S+', '  ', text)\n",
    "    \n",
    "    # Convert the text to lowercase\n",
    "    text = text.lower()\n",
    "    \n",
    "    # Remove punctuation from the text\n",
    "    text = re.sub('[^a-z]', ' ', text)\n",
    "    \n",
    "    # Remove numerical values from the text\n",
    "    text = re.sub(r'\\d+', '', text)\n",
    "    \n",
    "    # Remove extra whitespaces\n",
    "    text = ' '.join(text.split())\n",
    "    \n",
    "    return text"
   ]
  },
  {
   "cell_type": "code",
   "execution_count": 37,
   "metadata": {
    "id": "J4TR1IklWqp8"
   },
   "outputs": [],
   "source": [
    "# Convert the perfect_resume dictionary to a string\n",
    "perfect_resume_str = json.dumps(perfect_resume)\n",
    "\n",
    "# Apply preprocess function to CV, JD, and perfect resume\n",
    "input_CV = preprocess_text(resume)\n",
    "input_JD = preprocess_text(random_jd)\n",
    "perfect_resume_text = preprocess_text(perfect_resume_str)"
   ]
  },
  {
   "cell_type": "markdown",
   "metadata": {},
   "source": [
    "#### 8. Matching\n",
    "Using the trained model, we infer the document vectors for the resume and job description. Then, we calculate the cosine similarity between the two vectors to determine the match between the resume and the job description."
   ]
  },
  {
   "cell_type": "code",
   "execution_count": 40,
   "metadata": {},
   "outputs": [],
   "source": [
    "# Function to calculate cosine similarity\n",
    "def calculate_similarity(vector1, vector2):\n",
    "    return cosine_similarity([vector1], [vector2])[0][0]\n",
    "\n",
    "# Infer vectors for the random resume, random JD, and perfect resume\n",
    "random_resume_vector = model.infer_vector(word_tokenize(input_CV))\n",
    "random_jd_vector = model.infer_vector(word_tokenize(input_JD))\n",
    "perfect_resume_vector = model.infer_vector(word_tokenize(perfect_resume_text))\n",
    "\n",
    "# Calculate similarity scores\n",
    "random_resume_similarity = calculate_similarity(random_resume_vector, random_jd_vector)\n",
    "perfect_resume_similarity = calculate_similarity(perfect_resume_vector, random_jd_vector)\n"
   ]
  },
  {
   "cell_type": "code",
   "execution_count": 41,
   "metadata": {},
   "outputs": [],
   "source": [
    "#### 9. Visualization"
   ]
  },
  {
   "cell_type": "code",
   "execution_count": 42,
   "metadata": {},
   "outputs": [
    {
     "data": {
      "application/vnd.plotly.v1+json": {
       "config": {
        "plotlyServerURL": "https://plot.ly"
       },
       "data": [
        {
         "gauge": {
          "axis": {
           "range": [
            0,
            100
           ]
          },
          "steps": [
           {
            "color": "#FFB6C1",
            "range": [
             0,
             50
            ]
           },
           {
            "color": "#FFFFE0",
            "range": [
             50,
             70
            ]
           },
           {
            "color": "#90EE90",
            "range": [
             70,
             100
            ]
           }
          ],
          "threshold": {
           "line": {
            "color": "red",
            "width": 4
           },
           "thickness": 0.75,
           "value": 100
          }
         },
         "mode": "gauge+number",
         "title": {
          "text": "Random Resume Matching Score (%)"
         },
         "type": "indicator",
         "value": 60.083186626434326
        }
       ],
       "layout": {
        "height": 400,
        "template": {
         "data": {
          "bar": [
           {
            "error_x": {
             "color": "#2a3f5f"
            },
            "error_y": {
             "color": "#2a3f5f"
            },
            "marker": {
             "line": {
              "color": "#E5ECF6",
              "width": 0.5
             },
             "pattern": {
              "fillmode": "overlay",
              "size": 10,
              "solidity": 0.2
             }
            },
            "type": "bar"
           }
          ],
          "barpolar": [
           {
            "marker": {
             "line": {
              "color": "#E5ECF6",
              "width": 0.5
             },
             "pattern": {
              "fillmode": "overlay",
              "size": 10,
              "solidity": 0.2
             }
            },
            "type": "barpolar"
           }
          ],
          "carpet": [
           {
            "aaxis": {
             "endlinecolor": "#2a3f5f",
             "gridcolor": "white",
             "linecolor": "white",
             "minorgridcolor": "white",
             "startlinecolor": "#2a3f5f"
            },
            "baxis": {
             "endlinecolor": "#2a3f5f",
             "gridcolor": "white",
             "linecolor": "white",
             "minorgridcolor": "white",
             "startlinecolor": "#2a3f5f"
            },
            "type": "carpet"
           }
          ],
          "choropleth": [
           {
            "colorbar": {
             "outlinewidth": 0,
             "ticks": ""
            },
            "type": "choropleth"
           }
          ],
          "contour": [
           {
            "colorbar": {
             "outlinewidth": 0,
             "ticks": ""
            },
            "colorscale": [
             [
              0,
              "#0d0887"
             ],
             [
              0.1111111111111111,
              "#46039f"
             ],
             [
              0.2222222222222222,
              "#7201a8"
             ],
             [
              0.3333333333333333,
              "#9c179e"
             ],
             [
              0.4444444444444444,
              "#bd3786"
             ],
             [
              0.5555555555555556,
              "#d8576b"
             ],
             [
              0.6666666666666666,
              "#ed7953"
             ],
             [
              0.7777777777777778,
              "#fb9f3a"
             ],
             [
              0.8888888888888888,
              "#fdca26"
             ],
             [
              1,
              "#f0f921"
             ]
            ],
            "type": "contour"
           }
          ],
          "contourcarpet": [
           {
            "colorbar": {
             "outlinewidth": 0,
             "ticks": ""
            },
            "type": "contourcarpet"
           }
          ],
          "heatmap": [
           {
            "colorbar": {
             "outlinewidth": 0,
             "ticks": ""
            },
            "colorscale": [
             [
              0,
              "#0d0887"
             ],
             [
              0.1111111111111111,
              "#46039f"
             ],
             [
              0.2222222222222222,
              "#7201a8"
             ],
             [
              0.3333333333333333,
              "#9c179e"
             ],
             [
              0.4444444444444444,
              "#bd3786"
             ],
             [
              0.5555555555555556,
              "#d8576b"
             ],
             [
              0.6666666666666666,
              "#ed7953"
             ],
             [
              0.7777777777777778,
              "#fb9f3a"
             ],
             [
              0.8888888888888888,
              "#fdca26"
             ],
             [
              1,
              "#f0f921"
             ]
            ],
            "type": "heatmap"
           }
          ],
          "heatmapgl": [
           {
            "colorbar": {
             "outlinewidth": 0,
             "ticks": ""
            },
            "colorscale": [
             [
              0,
              "#0d0887"
             ],
             [
              0.1111111111111111,
              "#46039f"
             ],
             [
              0.2222222222222222,
              "#7201a8"
             ],
             [
              0.3333333333333333,
              "#9c179e"
             ],
             [
              0.4444444444444444,
              "#bd3786"
             ],
             [
              0.5555555555555556,
              "#d8576b"
             ],
             [
              0.6666666666666666,
              "#ed7953"
             ],
             [
              0.7777777777777778,
              "#fb9f3a"
             ],
             [
              0.8888888888888888,
              "#fdca26"
             ],
             [
              1,
              "#f0f921"
             ]
            ],
            "type": "heatmapgl"
           }
          ],
          "histogram": [
           {
            "marker": {
             "pattern": {
              "fillmode": "overlay",
              "size": 10,
              "solidity": 0.2
             }
            },
            "type": "histogram"
           }
          ],
          "histogram2d": [
           {
            "colorbar": {
             "outlinewidth": 0,
             "ticks": ""
            },
            "colorscale": [
             [
              0,
              "#0d0887"
             ],
             [
              0.1111111111111111,
              "#46039f"
             ],
             [
              0.2222222222222222,
              "#7201a8"
             ],
             [
              0.3333333333333333,
              "#9c179e"
             ],
             [
              0.4444444444444444,
              "#bd3786"
             ],
             [
              0.5555555555555556,
              "#d8576b"
             ],
             [
              0.6666666666666666,
              "#ed7953"
             ],
             [
              0.7777777777777778,
              "#fb9f3a"
             ],
             [
              0.8888888888888888,
              "#fdca26"
             ],
             [
              1,
              "#f0f921"
             ]
            ],
            "type": "histogram2d"
           }
          ],
          "histogram2dcontour": [
           {
            "colorbar": {
             "outlinewidth": 0,
             "ticks": ""
            },
            "colorscale": [
             [
              0,
              "#0d0887"
             ],
             [
              0.1111111111111111,
              "#46039f"
             ],
             [
              0.2222222222222222,
              "#7201a8"
             ],
             [
              0.3333333333333333,
              "#9c179e"
             ],
             [
              0.4444444444444444,
              "#bd3786"
             ],
             [
              0.5555555555555556,
              "#d8576b"
             ],
             [
              0.6666666666666666,
              "#ed7953"
             ],
             [
              0.7777777777777778,
              "#fb9f3a"
             ],
             [
              0.8888888888888888,
              "#fdca26"
             ],
             [
              1,
              "#f0f921"
             ]
            ],
            "type": "histogram2dcontour"
           }
          ],
          "mesh3d": [
           {
            "colorbar": {
             "outlinewidth": 0,
             "ticks": ""
            },
            "type": "mesh3d"
           }
          ],
          "parcoords": [
           {
            "line": {
             "colorbar": {
              "outlinewidth": 0,
              "ticks": ""
             }
            },
            "type": "parcoords"
           }
          ],
          "pie": [
           {
            "automargin": true,
            "type": "pie"
           }
          ],
          "scatter": [
           {
            "fillpattern": {
             "fillmode": "overlay",
             "size": 10,
             "solidity": 0.2
            },
            "type": "scatter"
           }
          ],
          "scatter3d": [
           {
            "line": {
             "colorbar": {
              "outlinewidth": 0,
              "ticks": ""
             }
            },
            "marker": {
             "colorbar": {
              "outlinewidth": 0,
              "ticks": ""
             }
            },
            "type": "scatter3d"
           }
          ],
          "scattercarpet": [
           {
            "marker": {
             "colorbar": {
              "outlinewidth": 0,
              "ticks": ""
             }
            },
            "type": "scattercarpet"
           }
          ],
          "scattergeo": [
           {
            "marker": {
             "colorbar": {
              "outlinewidth": 0,
              "ticks": ""
             }
            },
            "type": "scattergeo"
           }
          ],
          "scattergl": [
           {
            "marker": {
             "colorbar": {
              "outlinewidth": 0,
              "ticks": ""
             }
            },
            "type": "scattergl"
           }
          ],
          "scattermapbox": [
           {
            "marker": {
             "colorbar": {
              "outlinewidth": 0,
              "ticks": ""
             }
            },
            "type": "scattermapbox"
           }
          ],
          "scatterpolar": [
           {
            "marker": {
             "colorbar": {
              "outlinewidth": 0,
              "ticks": ""
             }
            },
            "type": "scatterpolar"
           }
          ],
          "scatterpolargl": [
           {
            "marker": {
             "colorbar": {
              "outlinewidth": 0,
              "ticks": ""
             }
            },
            "type": "scatterpolargl"
           }
          ],
          "scatterternary": [
           {
            "marker": {
             "colorbar": {
              "outlinewidth": 0,
              "ticks": ""
             }
            },
            "type": "scatterternary"
           }
          ],
          "surface": [
           {
            "colorbar": {
             "outlinewidth": 0,
             "ticks": ""
            },
            "colorscale": [
             [
              0,
              "#0d0887"
             ],
             [
              0.1111111111111111,
              "#46039f"
             ],
             [
              0.2222222222222222,
              "#7201a8"
             ],
             [
              0.3333333333333333,
              "#9c179e"
             ],
             [
              0.4444444444444444,
              "#bd3786"
             ],
             [
              0.5555555555555556,
              "#d8576b"
             ],
             [
              0.6666666666666666,
              "#ed7953"
             ],
             [
              0.7777777777777778,
              "#fb9f3a"
             ],
             [
              0.8888888888888888,
              "#fdca26"
             ],
             [
              1,
              "#f0f921"
             ]
            ],
            "type": "surface"
           }
          ],
          "table": [
           {
            "cells": {
             "fill": {
              "color": "#EBF0F8"
             },
             "line": {
              "color": "white"
             }
            },
            "header": {
             "fill": {
              "color": "#C8D4E3"
             },
             "line": {
              "color": "white"
             }
            },
            "type": "table"
           }
          ]
         },
         "layout": {
          "annotationdefaults": {
           "arrowcolor": "#2a3f5f",
           "arrowhead": 0,
           "arrowwidth": 1
          },
          "autotypenumbers": "strict",
          "coloraxis": {
           "colorbar": {
            "outlinewidth": 0,
            "ticks": ""
           }
          },
          "colorscale": {
           "diverging": [
            [
             0,
             "#8e0152"
            ],
            [
             0.1,
             "#c51b7d"
            ],
            [
             0.2,
             "#de77ae"
            ],
            [
             0.3,
             "#f1b6da"
            ],
            [
             0.4,
             "#fde0ef"
            ],
            [
             0.5,
             "#f7f7f7"
            ],
            [
             0.6,
             "#e6f5d0"
            ],
            [
             0.7,
             "#b8e186"
            ],
            [
             0.8,
             "#7fbc41"
            ],
            [
             0.9,
             "#4d9221"
            ],
            [
             1,
             "#276419"
            ]
           ],
           "sequential": [
            [
             0,
             "#0d0887"
            ],
            [
             0.1111111111111111,
             "#46039f"
            ],
            [
             0.2222222222222222,
             "#7201a8"
            ],
            [
             0.3333333333333333,
             "#9c179e"
            ],
            [
             0.4444444444444444,
             "#bd3786"
            ],
            [
             0.5555555555555556,
             "#d8576b"
            ],
            [
             0.6666666666666666,
             "#ed7953"
            ],
            [
             0.7777777777777778,
             "#fb9f3a"
            ],
            [
             0.8888888888888888,
             "#fdca26"
            ],
            [
             1,
             "#f0f921"
            ]
           ],
           "sequentialminus": [
            [
             0,
             "#0d0887"
            ],
            [
             0.1111111111111111,
             "#46039f"
            ],
            [
             0.2222222222222222,
             "#7201a8"
            ],
            [
             0.3333333333333333,
             "#9c179e"
            ],
            [
             0.4444444444444444,
             "#bd3786"
            ],
            [
             0.5555555555555556,
             "#d8576b"
            ],
            [
             0.6666666666666666,
             "#ed7953"
            ],
            [
             0.7777777777777778,
             "#fb9f3a"
            ],
            [
             0.8888888888888888,
             "#fdca26"
            ],
            [
             1,
             "#f0f921"
            ]
           ]
          },
          "colorway": [
           "#636efa",
           "#EF553B",
           "#00cc96",
           "#ab63fa",
           "#FFA15A",
           "#19d3f3",
           "#FF6692",
           "#B6E880",
           "#FF97FF",
           "#FECB52"
          ],
          "font": {
           "color": "#2a3f5f"
          },
          "geo": {
           "bgcolor": "white",
           "lakecolor": "white",
           "landcolor": "#E5ECF6",
           "showlakes": true,
           "showland": true,
           "subunitcolor": "white"
          },
          "hoverlabel": {
           "align": "left"
          },
          "hovermode": "closest",
          "mapbox": {
           "style": "light"
          },
          "paper_bgcolor": "white",
          "plot_bgcolor": "#E5ECF6",
          "polar": {
           "angularaxis": {
            "gridcolor": "white",
            "linecolor": "white",
            "ticks": ""
           },
           "bgcolor": "#E5ECF6",
           "radialaxis": {
            "gridcolor": "white",
            "linecolor": "white",
            "ticks": ""
           }
          },
          "scene": {
           "xaxis": {
            "backgroundcolor": "#E5ECF6",
            "gridcolor": "white",
            "gridwidth": 2,
            "linecolor": "white",
            "showbackground": true,
            "ticks": "",
            "zerolinecolor": "white"
           },
           "yaxis": {
            "backgroundcolor": "#E5ECF6",
            "gridcolor": "white",
            "gridwidth": 2,
            "linecolor": "white",
            "showbackground": true,
            "ticks": "",
            "zerolinecolor": "white"
           },
           "zaxis": {
            "backgroundcolor": "#E5ECF6",
            "gridcolor": "white",
            "gridwidth": 2,
            "linecolor": "white",
            "showbackground": true,
            "ticks": "",
            "zerolinecolor": "white"
           }
          },
          "shapedefaults": {
           "line": {
            "color": "#2a3f5f"
           }
          },
          "ternary": {
           "aaxis": {
            "gridcolor": "white",
            "linecolor": "white",
            "ticks": ""
           },
           "baxis": {
            "gridcolor": "white",
            "linecolor": "white",
            "ticks": ""
           },
           "bgcolor": "#E5ECF6",
           "caxis": {
            "gridcolor": "white",
            "linecolor": "white",
            "ticks": ""
           }
          },
          "title": {
           "x": 0.05
          },
          "xaxis": {
           "automargin": true,
           "gridcolor": "white",
           "linecolor": "white",
           "ticks": "",
           "title": {
            "standoff": 15
           },
           "zerolinecolor": "white",
           "zerolinewidth": 2
          },
          "yaxis": {
           "automargin": true,
           "gridcolor": "white",
           "linecolor": "white",
           "ticks": "",
           "title": {
            "standoff": 15
           },
           "zerolinecolor": "white",
           "zerolinewidth": 2
          }
         }
        },
        "width": 400
       }
      },
      "image/png": "[encoded data removed]",
      "text/html": [
       "<div>                            <div id=\"159c2b6c-f142-4dc9-add6-b73edddddef8\" class=\"plotly-graph-div\" style=\"height:400px; width:400px;\"></div>            <script type=\"text/javascript\">                require([\"plotly\"], function(Plotly) {                    window.PLOTLYENV=window.PLOTLYENV || {};                                    if (document.getElementById(\"159c2b6c-f142-4dc9-add6-b73edddddef8\")) {                    Plotly.newPlot(                        \"159c2b6c-f142-4dc9-add6-b73edddddef8\",                        [{\"gauge\":{\"axis\":{\"range\":[0,100]},\"steps\":[{\"color\":\"#FFB6C1\",\"range\":[0,50]},{\"color\":\"#FFFFE0\",\"range\":[50,70]},{\"color\":\"#90EE90\",\"range\":[70,100]}],\"threshold\":{\"line\":{\"color\":\"red\",\"width\":4},\"thickness\":0.75,\"value\":100}},\"mode\":\"gauge+number\",\"title\":{\"text\":\"Random Resume Matching Score (%)\"},\"value\":60.083186626434326,\"type\":\"indicator\"}],                        {\"template\":{\"data\":{\"histogram2dcontour\":[{\"type\":\"histogram2dcontour\",\"colorbar\":{\"outlinewidth\":0,\"ticks\":\"\"},\"colorscale\":[[0.0,\"#0d0887\"],[0.1111111111111111,\"#46039f\"],[0.2222222222222222,\"#7201a8\"],[0.3333333333333333,\"#9c179e\"],[0.4444444444444444,\"#bd3786\"],[0.5555555555555556,\"#d8576b\"],[0.6666666666666666,\"#ed7953\"],[0.7777777777777778,\"#fb9f3a\"],[0.8888888888888888,\"#fdca26\"],[1.0,\"#f0f921\"]]}],\"choropleth\":[{\"type\":\"choropleth\",\"colorbar\":{\"outlinewidth\":0,\"ticks\":\"\"}}],\"histogram2d\":[{\"type\":\"histogram2d\",\"colorbar\":{\"outlinewidth\":0,\"ticks\":\"\"},\"colorscale\":[[0.0,\"#0d0887\"],[0.1111111111111111,\"#46039f\"],[0.2222222222222222,\"#7201a8\"],[0.3333333333333333,\"#9c179e\"],[0.4444444444444444,\"#bd3786\"],[0.5555555555555556,\"#d8576b\"],[0.6666666666666666,\"#ed7953\"],[0.7777777777777778,\"#fb9f3a\"],[0.8888888888888888,\"#fdca26\"],[1.0,\"#f0f921\"]]}],\"heatmap\":[{\"type\":\"heatmap\",\"colorbar\":{\"outlinewidth\":0,\"ticks\":\"\"},\"colorscale\":[[0.0,\"#0d0887\"],[0.1111111111111111,\"#46039f\"],[0.2222222222222222,\"#7201a8\"],[0.3333333333333333,\"#9c179e\"],[0.4444444444444444,\"#bd3786\"],[0.5555555555555556,\"#d8576b\"],[0.6666666666666666,\"#ed7953\"],[0.7777777777777778,\"#fb9f3a\"],[0.8888888888888888,\"#fdca26\"],[1.0,\"#f0f921\"]]}],\"heatmapgl\":[{\"type\":\"heatmapgl\",\"colorbar\":{\"outlinewidth\":0,\"ticks\":\"\"},\"colorscale\":[[0.0,\"#0d0887\"],[0.1111111111111111,\"#46039f\"],[0.2222222222222222,\"#7201a8\"],[0.3333333333333333,\"#9c179e\"],[0.4444444444444444,\"#bd3786\"],[0.5555555555555556,\"#d8576b\"],[0.6666666666666666,\"#ed7953\"],[0.7777777777777778,\"#fb9f3a\"],[0.8888888888888888,\"#fdca26\"],[1.0,\"#f0f921\"]]}],\"contourcarpet\":[{\"type\":\"contourcarpet\",\"colorbar\":{\"outlinewidth\":0,\"ticks\":\"\"}}],\"contour\":[{\"type\":\"contour\",\"colorbar\":{\"outlinewidth\":0,\"ticks\":\"\"},\"colorscale\":[[0.0,\"#0d0887\"],[0.1111111111111111,\"#46039f\"],[0.2222222222222222,\"#7201a8\"],[0.3333333333333333,\"#9c179e\"],[0.4444444444444444,\"#bd3786\"],[0.5555555555555556,\"#d8576b\"],[0.6666666666666666,\"#ed7953\"],[0.7777777777777778,\"#fb9f3a\"],[0.8888888888888888,\"#fdca26\"],[1.0,\"#f0f921\"]]}],\"surface\":[{\"type\":\"surface\",\"colorbar\":{\"outlinewidth\":0,\"ticks\":\"\"},\"colorscale\":[[0.0,\"#0d0887\"],[0.1111111111111111,\"#46039f\"],[0.2222222222222222,\"#7201a8\"],[0.3333333333333333,\"#9c179e\"],[0.4444444444444444,\"#bd3786\"],[0.5555555555555556,\"#d8576b\"],[0.6666666666666666,\"#ed7953\"],[0.7777777777777778,\"#fb9f3a\"],[0.8888888888888888,\"#fdca26\"],[1.0,\"#f0f921\"]]}],\"mesh3d\":[{\"type\":\"mesh3d\",\"colorbar\":{\"outlinewidth\":0,\"ticks\":\"\"}}],\"scatter\":[{\"fillpattern\":{\"fillmode\":\"overlay\",\"size\":10,\"solidity\":0.2},\"type\":\"scatter\"}],\"parcoords\":[{\"type\":\"parcoords\",\"line\":{\"colorbar\":{\"outlinewidth\":0,\"ticks\":\"\"}}}],\"scatterpolargl\":[{\"type\":\"scatterpolargl\",\"marker\":{\"colorbar\":{\"outlinewidth\":0,\"ticks\":\"\"}}}],\"bar\":[{\"error_x\":{\"color\":\"#2a3f5f\"},\"error_y\":{\"color\":\"#2a3f5f\"},\"marker\":{\"line\":{\"color\":\"#E5ECF6\",\"width\":0.5},\"pattern\":{\"fillmode\":\"overlay\",\"size\":10,\"solidity\":0.2}},\"type\":\"bar\"}],\"scattergeo\":[{\"type\":\"scattergeo\",\"marker\":{\"colorbar\":{\"outlinewidth\":0,\"ticks\":\"\"}}}],\"scatterpolar\":[{\"type\":\"scatterpolar\",\"marker\":{\"colorbar\":{\"outlinewidth\":0,\"ticks\":\"\"}}}],\"histogram\":[{\"marker\":{\"pattern\":{\"fillmode\":\"overlay\",\"size\":10,\"solidity\":0.2}},\"type\":\"histogram\"}],\"scattergl\":[{\"type\":\"scattergl\",\"marker\":{\"colorbar\":{\"outlinewidth\":0,\"ticks\":\"\"}}}],\"scatter3d\":[{\"type\":\"scatter3d\",\"line\":{\"colorbar\":{\"outlinewidth\":0,\"ticks\":\"\"}},\"marker\":{\"colorbar\":{\"outlinewidth\":0,\"ticks\":\"\"}}}],\"scattermapbox\":[{\"type\":\"scattermapbox\",\"marker\":{\"colorbar\":{\"outlinewidth\":0,\"ticks\":\"\"}}}],\"scatterternary\":[{\"type\":\"scatterternary\",\"marker\":{\"colorbar\":{\"outlinewidth\":0,\"ticks\":\"\"}}}],\"scattercarpet\":[{\"type\":\"scattercarpet\",\"marker\":{\"colorbar\":{\"outlinewidth\":0,\"ticks\":\"\"}}}],\"carpet\":[{\"aaxis\":{\"endlinecolor\":\"#2a3f5f\",\"gridcolor\":\"white\",\"linecolor\":\"white\",\"minorgridcolor\":\"white\",\"startlinecolor\":\"#2a3f5f\"},\"baxis\":{\"endlinecolor\":\"#2a3f5f\",\"gridcolor\":\"white\",\"linecolor\":\"white\",\"minorgridcolor\":\"white\",\"startlinecolor\":\"#2a3f5f\"},\"type\":\"carpet\"}],\"table\":[{\"cells\":{\"fill\":{\"color\":\"#EBF0F8\"},\"line\":{\"color\":\"white\"}},\"header\":{\"fill\":{\"color\":\"#C8D4E3\"},\"line\":{\"color\":\"white\"}},\"type\":\"table\"}],\"barpolar\":[{\"marker\":{\"line\":{\"color\":\"#E5ECF6\",\"width\":0.5},\"pattern\":{\"fillmode\":\"overlay\",\"size\":10,\"solidity\":0.2}},\"type\":\"barpolar\"}],\"pie\":[{\"automargin\":true,\"type\":\"pie\"}]},\"layout\":{\"autotypenumbers\":\"strict\",\"colorway\":[\"#636efa\",\"#EF553B\",\"#00cc96\",\"#ab63fa\",\"#FFA15A\",\"#19d3f3\",\"#FF6692\",\"#B6E880\",\"#FF97FF\",\"#FECB52\"],\"font\":{\"color\":\"#2a3f5f\"},\"hovermode\":\"closest\",\"hoverlabel\":{\"align\":\"left\"},\"paper_bgcolor\":\"white\",\"plot_bgcolor\":\"#E5ECF6\",\"polar\":{\"bgcolor\":\"#E5ECF6\",\"angularaxis\":{\"gridcolor\":\"white\",\"linecolor\":\"white\",\"ticks\":\"\"},\"radialaxis\":{\"gridcolor\":\"white\",\"linecolor\":\"white\",\"ticks\":\"\"}},\"ternary\":{\"bgcolor\":\"#E5ECF6\",\"aaxis\":{\"gridcolor\":\"white\",\"linecolor\":\"white\",\"ticks\":\"\"},\"baxis\":{\"gridcolor\":\"white\",\"linecolor\":\"white\",\"ticks\":\"\"},\"caxis\":{\"gridcolor\":\"white\",\"linecolor\":\"white\",\"ticks\":\"\"}},\"coloraxis\":{\"colorbar\":{\"outlinewidth\":0,\"ticks\":\"\"}},\"colorscale\":{\"sequential\":[[0.0,\"#0d0887\"],[0.1111111111111111,\"#46039f\"],[0.2222222222222222,\"#7201a8\"],[0.3333333333333333,\"#9c179e\"],[0.4444444444444444,\"#bd3786\"],[0.5555555555555556,\"#d8576b\"],[0.6666666666666666,\"#ed7953\"],[0.7777777777777778,\"#fb9f3a\"],[0.8888888888888888,\"#fdca26\"],[1.0,\"#f0f921\"]],\"sequentialminus\":[[0.0,\"#0d0887\"],[0.1111111111111111,\"#46039f\"],[0.2222222222222222,\"#7201a8\"],[0.3333333333333333,\"#9c179e\"],[0.4444444444444444,\"#bd3786\"],[0.5555555555555556,\"#d8576b\"],[0.6666666666666666,\"#ed7953\"],[0.7777777777777778,\"#fb9f3a\"],[0.8888888888888888,\"#fdca26\"],[1.0,\"#f0f921\"]],\"diverging\":[[0,\"#8e0152\"],[0.1,\"#c51b7d\"],[0.2,\"#de77ae\"],[0.3,\"#f1b6da\"],[0.4,\"#fde0ef\"],[0.5,\"#f7f7f7\"],[0.6,\"#e6f5d0\"],[0.7,\"#b8e186\"],[0.8,\"#7fbc41\"],[0.9,\"#4d9221\"],[1,\"#276419\"]]},\"xaxis\":{\"gridcolor\":\"white\",\"linecolor\":\"white\",\"ticks\":\"\",\"title\":{\"standoff\":15},\"zerolinecolor\":\"white\",\"automargin\":true,\"zerolinewidth\":2},\"yaxis\":{\"gridcolor\":\"white\",\"linecolor\":\"white\",\"ticks\":\"\",\"title\":{\"standoff\":15},\"zerolinecolor\":\"white\",\"automargin\":true,\"zerolinewidth\":2},\"scene\":{\"xaxis\":{\"backgroundcolor\":\"#E5ECF6\",\"gridcolor\":\"white\",\"linecolor\":\"white\",\"showbackground\":true,\"ticks\":\"\",\"zerolinecolor\":\"white\",\"gridwidth\":2},\"yaxis\":{\"backgroundcolor\":\"#E5ECF6\",\"gridcolor\":\"white\",\"linecolor\":\"white\",\"showbackground\":true,\"ticks\":\"\",\"zerolinecolor\":\"white\",\"gridwidth\":2},\"zaxis\":{\"backgroundcolor\":\"#E5ECF6\",\"gridcolor\":\"white\",\"linecolor\":\"white\",\"showbackground\":true,\"ticks\":\"\",\"zerolinecolor\":\"white\",\"gridwidth\":2}},\"shapedefaults\":{\"line\":{\"color\":\"#2a3f5f\"}},\"annotationdefaults\":{\"arrowcolor\":\"#2a3f5f\",\"arrowhead\":0,\"arrowwidth\":1},\"geo\":{\"bgcolor\":\"white\",\"landcolor\":\"#E5ECF6\",\"subunitcolor\":\"white\",\"showland\":true,\"showlakes\":true,\"lakecolor\":\"white\"},\"title\":{\"x\":0.05},\"mapbox\":{\"style\":\"light\"}}},\"width\":400,\"height\":400},                        {\"responsive\": true}                    ).then(function(){\n",
       "                            \n",
       "var gd = document.getElementById('159c2b6c-f142-4dc9-add6-b73edddddef8');\n",
       "var x = new MutationObserver(function (mutations, observer) {{\n",
       "        var display = window.getComputedStyle(gd).display;\n",
       "        if (!display || display === 'none') {{\n",
       "            console.log([gd, 'removed!']);\n",
       "            Plotly.purge(gd);\n",
       "            observer.disconnect();\n",
       "        }}\n",
       "}});\n",
       "\n",
       "// Listen for the removal of the full notebook cells\n",
       "var notebookContainer = gd.closest('#notebook-container');\n",
       "if (notebookContainer) {{\n",
       "    x.observe(notebookContainer, {childList: true});\n",
       "}}\n",
       "\n",
       "// Listen for the clearing of the current output cell\n",
       "var outputEl = gd.closest('.output');\n",
       "if (outputEl) {{\n",
       "    x.observe(outputEl, {childList: true});\n",
       "}}\n",
       "\n",
       "                        })                };                });            </script>        </div>"
      ]
     },
     "metadata": {},
     "output_type": "display_data"
    },
    {
     "data": {
      "application/vnd.plotly.v1+json": {
       "config": {
        "plotlyServerURL": "https://plot.ly"
       },
       "data": [
        {
         "gauge": {
          "axis": {
           "range": [
            0,
            100
           ]
          },
          "steps": [
           {
            "color": "#FFB6C1",
            "range": [
             0,
             50
            ]
           },
           {
            "color": "#FFFFE0",
            "range": [
             50,
             70
            ]
           },
           {
            "color": "#90EE90",
            "range": [
             70,
             100
            ]
           }
          ],
          "threshold": {
           "line": {
            "color": "red",
            "width": 4
           },
           "thickness": 0.75,
           "value": 100
          }
         },
         "mode": "gauge+number",
         "title": {
          "text": "Perfect Resume Matching Score (%)"
         },
         "type": "indicator",
         "value": 76.30323767662048
        }
       ],
       "layout": {
        "height": 400,
        "template": {
         "data": {
          "bar": [
           {
            "error_x": {
             "color": "#2a3f5f"
            },
            "error_y": {
             "color": "#2a3f5f"
            },
            "marker": {
             "line": {
              "color": "#E5ECF6",
              "width": 0.5
             },
             "pattern": {
              "fillmode": "overlay",
              "size": 10,
              "solidity": 0.2
             }
            },
            "type": "bar"
           }
          ],
          "barpolar": [
           {
            "marker": {
             "line": {
              "color": "#E5ECF6",
              "width": 0.5
             },
             "pattern": {
              "fillmode": "overlay",
              "size": 10,
              "solidity": 0.2
             }
            },
            "type": "barpolar"
           }
          ],
          "carpet": [
           {
            "aaxis": {
             "endlinecolor": "#2a3f5f",
             "gridcolor": "white",
             "linecolor": "white",
             "minorgridcolor": "white",
             "startlinecolor": "#2a3f5f"
            },
            "baxis": {
             "endlinecolor": "#2a3f5f",
             "gridcolor": "white",
             "linecolor": "white",
             "minorgridcolor": "white",
             "startlinecolor": "#2a3f5f"
            },
            "type": "carpet"
           }
          ],
          "choropleth": [
           {
            "colorbar": {
             "outlinewidth": 0,
             "ticks": ""
            },
            "type": "choropleth"
           }
          ],
          "contour": [
           {
            "colorbar": {
             "outlinewidth": 0,
             "ticks": ""
            },
            "colorscale": [
             [
              0,
              "#0d0887"
             ],
             [
              0.1111111111111111,
              "#46039f"
             ],
             [
              0.2222222222222222,
              "#7201a8"
             ],
             [
              0.3333333333333333,
              "#9c179e"
             ],
             [
              0.4444444444444444,
              "#bd3786"
             ],
             [
              0.5555555555555556,
              "#d8576b"
             ],
             [
              0.6666666666666666,
              "#ed7953"
             ],
             [
              0.7777777777777778,
              "#fb9f3a"
             ],
             [
              0.8888888888888888,
              "#fdca26"
             ],
             [
              1,
              "#f0f921"
             ]
            ],
            "type": "contour"
           }
          ],
          "contourcarpet": [
           {
            "colorbar": {
             "outlinewidth": 0,
             "ticks": ""
            },
            "type": "contourcarpet"
           }
          ],
          "heatmap": [
           {
            "colorbar": {
             "outlinewidth": 0,
             "ticks": ""
            },
            "colorscale": [
             [
              0,
              "#0d0887"
             ],
             [
              0.1111111111111111,
              "#46039f"
             ],
             [
              0.2222222222222222,
              "#7201a8"
             ],
             [
              0.3333333333333333,
              "#9c179e"
             ],
             [
              0.4444444444444444,
              "#bd3786"
             ],
             [
              0.5555555555555556,
              "#d8576b"
             ],
             [
              0.6666666666666666,
              "#ed7953"
             ],
             [
              0.7777777777777778,
              "#fb9f3a"
             ],
             [
              0.8888888888888888,
              "#fdca26"
             ],
             [
              1,
              "#f0f921"
             ]
            ],
            "type": "heatmap"
           }
          ],
          "heatmapgl": [
           {
            "colorbar": {
             "outlinewidth": 0,
             "ticks": ""
            },
            "colorscale": [
             [
              0,
              "#0d0887"
             ],
             [
              0.1111111111111111,
              "#46039f"
             ],
             [
              0.2222222222222222,
              "#7201a8"
             ],
             [
              0.3333333333333333,
              "#9c179e"
             ],
             [
              0.4444444444444444,
              "#bd3786"
             ],
             [
              0.5555555555555556,
              "#d8576b"
             ],
             [
              0.6666666666666666,
              "#ed7953"
             ],
             [
              0.7777777777777778,
              "#fb9f3a"
             ],
             [
              0.8888888888888888,
              "#fdca26"
             ],
             [
              1,
              "#f0f921"
             ]
            ],
            "type": "heatmapgl"
           }
          ],
          "histogram": [
           {
            "marker": {
             "pattern": {
              "fillmode": "overlay",
              "size": 10,
              "solidity": 0.2
             }
            },
            "type": "histogram"
           }
          ],
          "histogram2d": [
           {
            "colorbar": {
             "outlinewidth": 0,
             "ticks": ""
            },
            "colorscale": [
             [
              0,
              "#0d0887"
             ],
             [
              0.1111111111111111,
              "#46039f"
             ],
             [
              0.2222222222222222,
              "#7201a8"
             ],
             [
              0.3333333333333333,
              "#9c179e"
             ],
             [
              0.4444444444444444,
              "#bd3786"
             ],
             [
              0.5555555555555556,
              "#d8576b"
             ],
             [
              0.6666666666666666,
              "#ed7953"
             ],
             [
              0.7777777777777778,
              "#fb9f3a"
             ],
             [
              0.8888888888888888,
              "#fdca26"
             ],
             [
              1,
              "#f0f921"
             ]
            ],
            "type": "histogram2d"
           }
          ],
          "histogram2dcontour": [
           {
            "colorbar": {
             "outlinewidth": 0,
             "ticks": ""
            },
            "colorscale": [
             [
              0,
              "#0d0887"
             ],
             [
              0.1111111111111111,
              "#46039f"
             ],
             [
              0.2222222222222222,
              "#7201a8"
             ],
             [
              0.3333333333333333,
              "#9c179e"
             ],
             [
              0.4444444444444444,
              "#bd3786"
             ],
             [
              0.5555555555555556,
              "#d8576b"
             ],
             [
              0.6666666666666666,
              "#ed7953"
             ],
             [
              0.7777777777777778,
              "#fb9f3a"
             ],
             [
              0.8888888888888888,
              "#fdca26"
             ],
             [
              1,
              "#f0f921"
             ]
            ],
            "type": "histogram2dcontour"
           }
          ],
          "mesh3d": [
           {
            "colorbar": {
             "outlinewidth": 0,
             "ticks": ""
            },
            "type": "mesh3d"
           }
          ],
          "parcoords": [
           {
            "line": {
             "colorbar": {
              "outlinewidth": 0,
              "ticks": ""
             }
            },
            "type": "parcoords"
           }
          ],
          "pie": [
           {
            "automargin": true,
            "type": "pie"
           }
          ],
          "scatter": [
           {
            "fillpattern": {
             "fillmode": "overlay",
             "size": 10,
             "solidity": 0.2
            },
            "type": "scatter"
           }
          ],
          "scatter3d": [
           {
            "line": {
             "colorbar": {
              "outlinewidth": 0,
              "ticks": ""
             }
            },
            "marker": {
             "colorbar": {
              "outlinewidth": 0,
              "ticks": ""
             }
            },
            "type": "scatter3d"
           }
          ],
          "scattercarpet": [
           {
            "marker": {
             "colorbar": {
              "outlinewidth": 0,
              "ticks": ""
             }
            },
            "type": "scattercarpet"
           }
          ],
          "scattergeo": [
           {
            "marker": {
             "colorbar": {
              "outlinewidth": 0,
              "ticks": ""
             }
            },
            "type": "scattergeo"
           }
          ],
          "scattergl": [
           {
            "marker": {
             "colorbar": {
              "outlinewidth": 0,
              "ticks": ""
             }
            },
            "type": "scattergl"
           }
          ],
          "scattermapbox": [
           {
            "marker": {
             "colorbar": {
              "outlinewidth": 0,
              "ticks": ""
             }
            },
            "type": "scattermapbox"
           }
          ],
          "scatterpolar": [
           {
            "marker": {
             "colorbar": {
              "outlinewidth": 0,
              "ticks": ""
             }
            },
            "type": "scatterpolar"
           }
          ],
          "scatterpolargl": [
           {
            "marker": {
             "colorbar": {
              "outlinewidth": 0,
              "ticks": ""
             }
            },
            "type": "scatterpolargl"
           }
          ],
          "scatterternary": [
           {
            "marker": {
             "colorbar": {
              "outlinewidth": 0,
              "ticks": ""
             }
            },
            "type": "scatterternary"
           }
          ],
          "surface": [
           {
            "colorbar": {
             "outlinewidth": 0,
             "ticks": ""
            },
            "colorscale": [
             [
              0,
              "#0d0887"
             ],
             [
              0.1111111111111111,
              "#46039f"
             ],
             [
              0.2222222222222222,
              "#7201a8"
             ],
             [
              0.3333333333333333,
              "#9c179e"
             ],
             [
              0.4444444444444444,
              "#bd3786"
             ],
             [
              0.5555555555555556,
              "#d8576b"
             ],
             [
              0.6666666666666666,
              "#ed7953"
             ],
             [
              0.7777777777777778,
              "#fb9f3a"
             ],
             [
              0.8888888888888888,
              "#fdca26"
             ],
             [
              1,
              "#f0f921"
             ]
            ],
            "type": "surface"
           }
          ],
          "table": [
           {
            "cells": {
             "fill": {
              "color": "#EBF0F8"
             },
             "line": {
              "color": "white"
             }
            },
            "header": {
             "fill": {
              "color": "#C8D4E3"
             },
             "line": {
              "color": "white"
             }
            },
            "type": "table"
           }
          ]
         },
         "layout": {
          "annotationdefaults": {
           "arrowcolor": "#2a3f5f",
           "arrowhead": 0,
           "arrowwidth": 1
          },
          "autotypenumbers": "strict",
          "coloraxis": {
           "colorbar": {
            "outlinewidth": 0,
            "ticks": ""
           }
          },
          "colorscale": {
           "diverging": [
            [
             0,
             "#8e0152"
            ],
            [
             0.1,
             "#c51b7d"
            ],
            [
             0.2,
             "#de77ae"
            ],
            [
             0.3,
             "#f1b6da"
            ],
            [
             0.4,
             "#fde0ef"
            ],
            [
             0.5,
             "#f7f7f7"
            ],
            [
             0.6,
             "#e6f5d0"
            ],
            [
             0.7,
             "#b8e186"
            ],
            [
             0.8,
             "#7fbc41"
            ],
            [
             0.9,
             "#4d9221"
            ],
            [
             1,
             "#276419"
            ]
           ],
           "sequential": [
            [
             0,
             "#0d0887"
            ],
            [
             0.1111111111111111,
             "#46039f"
            ],
            [
             0.2222222222222222,
             "#7201a8"
            ],
            [
             0.3333333333333333,
             "#9c179e"
            ],
            [
             0.4444444444444444,
             "#bd3786"
            ],
            [
             0.5555555555555556,
             "#d8576b"
            ],
            [
             0.6666666666666666,
             "#ed7953"
            ],
            [
             0.7777777777777778,
             "#fb9f3a"
            ],
            [
             0.8888888888888888,
             "#fdca26"
            ],
            [
             1,
             "#f0f921"
            ]
           ],
           "sequentialminus": [
            [
             0,
             "#0d0887"
            ],
            [
             0.1111111111111111,
             "#46039f"
            ],
            [
             0.2222222222222222,
             "#7201a8"
            ],
            [
             0.3333333333333333,
             "#9c179e"
            ],
            [
             0.4444444444444444,
             "#bd3786"
            ],
            [
             0.5555555555555556,
             "#d8576b"
            ],
            [
             0.6666666666666666,
             "#ed7953"
            ],
            [
             0.7777777777777778,
             "#fb9f3a"
            ],
            [
             0.8888888888888888,
             "#fdca26"
            ],
            [
             1,
             "#f0f921"
            ]
           ]
          },
          "colorway": [
           "#636efa",
           "#EF553B",
           "#00cc96",
           "#ab63fa",
           "#FFA15A",
           "#19d3f3",
           "#FF6692",
           "#B6E880",
           "#FF97FF",
           "#FECB52"
          ],
          "font": {
           "color": "#2a3f5f"
          },
          "geo": {
           "bgcolor": "white",
           "lakecolor": "white",
           "landcolor": "#E5ECF6",
           "showlakes": true,
           "showland": true,
           "subunitcolor": "white"
          },
          "hoverlabel": {
           "align": "left"
          },
          "hovermode": "closest",
          "mapbox": {
           "style": "light"
          },
          "paper_bgcolor": "white",
          "plot_bgcolor": "#E5ECF6",
          "polar": {
           "angularaxis": {
            "gridcolor": "white",
            "linecolor": "white",
            "ticks": ""
           },
           "bgcolor": "#E5ECF6",
           "radialaxis": {
            "gridcolor": "white",
            "linecolor": "white",
            "ticks": ""
           }
          },
          "scene": {
           "xaxis": {
            "backgroundcolor": "#E5ECF6",
            "gridcolor": "white",
            "gridwidth": 2,
            "linecolor": "white",
            "showbackground": true,
            "ticks": "",
            "zerolinecolor": "white"
           },
           "yaxis": {
            "backgroundcolor": "#E5ECF6",
            "gridcolor": "white",
            "gridwidth": 2,
            "linecolor": "white",
            "showbackground": true,
            "ticks": "",
            "zerolinecolor": "white"
           },
           "zaxis": {
            "backgroundcolor": "#E5ECF6",
            "gridcolor": "white",
            "gridwidth": 2,
            "linecolor": "white",
            "showbackground": true,
            "ticks": "",
            "zerolinecolor": "white"
           }
          },
          "shapedefaults": {
           "line": {
            "color": "#2a3f5f"
           }
          },
          "ternary": {
           "aaxis": {
            "gridcolor": "white",
            "linecolor": "white",
            "ticks": ""
           },
           "baxis": {
            "gridcolor": "white",
            "linecolor": "white",
            "ticks": ""
           },
           "bgcolor": "#E5ECF6",
           "caxis": {
            "gridcolor": "white",
            "linecolor": "white",
            "ticks": ""
           }
          },
          "title": {
           "x": 0.05
          },
          "xaxis": {
           "automargin": true,
           "gridcolor": "white",
           "linecolor": "white",
           "ticks": "",
           "title": {
            "standoff": 15
           },
           "zerolinecolor": "white",
           "zerolinewidth": 2
          },
          "yaxis": {
           "automargin": true,
           "gridcolor": "white",
           "linecolor": "white",
           "ticks": "",
           "title": {
            "standoff": 15
           },
           "zerolinecolor": "white",
           "zerolinewidth": 2
          }
         }
        },
        "width": 400
       }
      },
      "image/png": "[encoded data removed]",
      "text/html": [
       "<div>                            <div id=\"cbd3cfc9-491b-461d-8b5f-76df8df1bd18\" class=\"plotly-graph-div\" style=\"height:400px; width:400px;\"></div>            <script type=\"text/javascript\">                require([\"plotly\"], function(Plotly) {                    window.PLOTLYENV=window.PLOTLYENV || {};                                    if (document.getElementById(\"cbd3cfc9-491b-461d-8b5f-76df8df1bd18\")) {                    Plotly.newPlot(                        \"cbd3cfc9-491b-461d-8b5f-76df8df1bd18\",                        [{\"gauge\":{\"axis\":{\"range\":[0,100]},\"steps\":[{\"color\":\"#FFB6C1\",\"range\":[0,50]},{\"color\":\"#FFFFE0\",\"range\":[50,70]},{\"color\":\"#90EE90\",\"range\":[70,100]}],\"threshold\":{\"line\":{\"color\":\"red\",\"width\":4},\"thickness\":0.75,\"value\":100}},\"mode\":\"gauge+number\",\"title\":{\"text\":\"Perfect Resume Matching Score (%)\"},\"value\":76.30323767662048,\"type\":\"indicator\"}],                        {\"template\":{\"data\":{\"histogram2dcontour\":[{\"type\":\"histogram2dcontour\",\"colorbar\":{\"outlinewidth\":0,\"ticks\":\"\"},\"colorscale\":[[0.0,\"#0d0887\"],[0.1111111111111111,\"#46039f\"],[0.2222222222222222,\"#7201a8\"],[0.3333333333333333,\"#9c179e\"],[0.4444444444444444,\"#bd3786\"],[0.5555555555555556,\"#d8576b\"],[0.6666666666666666,\"#ed7953\"],[0.7777777777777778,\"#fb9f3a\"],[0.8888888888888888,\"#fdca26\"],[1.0,\"#f0f921\"]]}],\"choropleth\":[{\"type\":\"choropleth\",\"colorbar\":{\"outlinewidth\":0,\"ticks\":\"\"}}],\"histogram2d\":[{\"type\":\"histogram2d\",\"colorbar\":{\"outlinewidth\":0,\"ticks\":\"\"},\"colorscale\":[[0.0,\"#0d0887\"],[0.1111111111111111,\"#46039f\"],[0.2222222222222222,\"#7201a8\"],[0.3333333333333333,\"#9c179e\"],[0.4444444444444444,\"#bd3786\"],[0.5555555555555556,\"#d8576b\"],[0.6666666666666666,\"#ed7953\"],[0.7777777777777778,\"#fb9f3a\"],[0.8888888888888888,\"#fdca26\"],[1.0,\"#f0f921\"]]}],\"heatmap\":[{\"type\":\"heatmap\",\"colorbar\":{\"outlinewidth\":0,\"ticks\":\"\"},\"colorscale\":[[0.0,\"#0d0887\"],[0.1111111111111111,\"#46039f\"],[0.2222222222222222,\"#7201a8\"],[0.3333333333333333,\"#9c179e\"],[0.4444444444444444,\"#bd3786\"],[0.5555555555555556,\"#d8576b\"],[0.6666666666666666,\"#ed7953\"],[0.7777777777777778,\"#fb9f3a\"],[0.8888888888888888,\"#fdca26\"],[1.0,\"#f0f921\"]]}],\"heatmapgl\":[{\"type\":\"heatmapgl\",\"colorbar\":{\"outlinewidth\":0,\"ticks\":\"\"},\"colorscale\":[[0.0,\"#0d0887\"],[0.1111111111111111,\"#46039f\"],[0.2222222222222222,\"#7201a8\"],[0.3333333333333333,\"#9c179e\"],[0.4444444444444444,\"#bd3786\"],[0.5555555555555556,\"#d8576b\"],[0.6666666666666666,\"#ed7953\"],[0.7777777777777778,\"#fb9f3a\"],[0.8888888888888888,\"#fdca26\"],[1.0,\"#f0f921\"]]}],\"contourcarpet\":[{\"type\":\"contourcarpet\",\"colorbar\":{\"outlinewidth\":0,\"ticks\":\"\"}}],\"contour\":[{\"type\":\"contour\",\"colorbar\":{\"outlinewidth\":0,\"ticks\":\"\"},\"colorscale\":[[0.0,\"#0d0887\"],[0.1111111111111111,\"#46039f\"],[0.2222222222222222,\"#7201a8\"],[0.3333333333333333,\"#9c179e\"],[0.4444444444444444,\"#bd3786\"],[0.5555555555555556,\"#d8576b\"],[0.6666666666666666,\"#ed7953\"],[0.7777777777777778,\"#fb9f3a\"],[0.8888888888888888,\"#fdca26\"],[1.0,\"#f0f921\"]]}],\"surface\":[{\"type\":\"surface\",\"colorbar\":{\"outlinewidth\":0,\"ticks\":\"\"},\"colorscale\":[[0.0,\"#0d0887\"],[0.1111111111111111,\"#46039f\"],[0.2222222222222222,\"#7201a8\"],[0.3333333333333333,\"#9c179e\"],[0.4444444444444444,\"#bd3786\"],[0.5555555555555556,\"#d8576b\"],[0.6666666666666666,\"#ed7953\"],[0.7777777777777778,\"#fb9f3a\"],[0.8888888888888888,\"#fdca26\"],[1.0,\"#f0f921\"]]}],\"mesh3d\":[{\"type\":\"mesh3d\",\"colorbar\":{\"outlinewidth\":0,\"ticks\":\"\"}}],\"scatter\":[{\"fillpattern\":{\"fillmode\":\"overlay\",\"size\":10,\"solidity\":0.2},\"type\":\"scatter\"}],\"parcoords\":[{\"type\":\"parcoords\",\"line\":{\"colorbar\":{\"outlinewidth\":0,\"ticks\":\"\"}}}],\"scatterpolargl\":[{\"type\":\"scatterpolargl\",\"marker\":{\"colorbar\":{\"outlinewidth\":0,\"ticks\":\"\"}}}],\"bar\":[{\"error_x\":{\"color\":\"#2a3f5f\"},\"error_y\":{\"color\":\"#2a3f5f\"},\"marker\":{\"line\":{\"color\":\"#E5ECF6\",\"width\":0.5},\"pattern\":{\"fillmode\":\"overlay\",\"size\":10,\"solidity\":0.2}},\"type\":\"bar\"}],\"scattergeo\":[{\"type\":\"scattergeo\",\"marker\":{\"colorbar\":{\"outlinewidth\":0,\"ticks\":\"\"}}}],\"scatterpolar\":[{\"type\":\"scatterpolar\",\"marker\":{\"colorbar\":{\"outlinewidth\":0,\"ticks\":\"\"}}}],\"histogram\":[{\"marker\":{\"pattern\":{\"fillmode\":\"overlay\",\"size\":10,\"solidity\":0.2}},\"type\":\"histogram\"}],\"scattergl\":[{\"type\":\"scattergl\",\"marker\":{\"colorbar\":{\"outlinewidth\":0,\"ticks\":\"\"}}}],\"scatter3d\":[{\"type\":\"scatter3d\",\"line\":{\"colorbar\":{\"outlinewidth\":0,\"ticks\":\"\"}},\"marker\":{\"colorbar\":{\"outlinewidth\":0,\"ticks\":\"\"}}}],\"scattermapbox\":[{\"type\":\"scattermapbox\",\"marker\":{\"colorbar\":{\"outlinewidth\":0,\"ticks\":\"\"}}}],\"scatterternary\":[{\"type\":\"scatterternary\",\"marker\":{\"colorbar\":{\"outlinewidth\":0,\"ticks\":\"\"}}}],\"scattercarpet\":[{\"type\":\"scattercarpet\",\"marker\":{\"colorbar\":{\"outlinewidth\":0,\"ticks\":\"\"}}}],\"carpet\":[{\"aaxis\":{\"endlinecolor\":\"#2a3f5f\",\"gridcolor\":\"white\",\"linecolor\":\"white\",\"minorgridcolor\":\"white\",\"startlinecolor\":\"#2a3f5f\"},\"baxis\":{\"endlinecolor\":\"#2a3f5f\",\"gridcolor\":\"white\",\"linecolor\":\"white\",\"minorgridcolor\":\"white\",\"startlinecolor\":\"#2a3f5f\"},\"type\":\"carpet\"}],\"table\":[{\"cells\":{\"fill\":{\"color\":\"#EBF0F8\"},\"line\":{\"color\":\"white\"}},\"header\":{\"fill\":{\"color\":\"#C8D4E3\"},\"line\":{\"color\":\"white\"}},\"type\":\"table\"}],\"barpolar\":[{\"marker\":{\"line\":{\"color\":\"#E5ECF6\",\"width\":0.5},\"pattern\":{\"fillmode\":\"overlay\",\"size\":10,\"solidity\":0.2}},\"type\":\"barpolar\"}],\"pie\":[{\"automargin\":true,\"type\":\"pie\"}]},\"layout\":{\"autotypenumbers\":\"strict\",\"colorway\":[\"#636efa\",\"#EF553B\",\"#00cc96\",\"#ab63fa\",\"#FFA15A\",\"#19d3f3\",\"#FF6692\",\"#B6E880\",\"#FF97FF\",\"#FECB52\"],\"font\":{\"color\":\"#2a3f5f\"},\"hovermode\":\"closest\",\"hoverlabel\":{\"align\":\"left\"},\"paper_bgcolor\":\"white\",\"plot_bgcolor\":\"#E5ECF6\",\"polar\":{\"bgcolor\":\"#E5ECF6\",\"angularaxis\":{\"gridcolor\":\"white\",\"linecolor\":\"white\",\"ticks\":\"\"},\"radialaxis\":{\"gridcolor\":\"white\",\"linecolor\":\"white\",\"ticks\":\"\"}},\"ternary\":{\"bgcolor\":\"#E5ECF6\",\"aaxis\":{\"gridcolor\":\"white\",\"linecolor\":\"white\",\"ticks\":\"\"},\"baxis\":{\"gridcolor\":\"white\",\"linecolor\":\"white\",\"ticks\":\"\"},\"caxis\":{\"gridcolor\":\"white\",\"linecolor\":\"white\",\"ticks\":\"\"}},\"coloraxis\":{\"colorbar\":{\"outlinewidth\":0,\"ticks\":\"\"}},\"colorscale\":{\"sequential\":[[0.0,\"#0d0887\"],[0.1111111111111111,\"#46039f\"],[0.2222222222222222,\"#7201a8\"],[0.3333333333333333,\"#9c179e\"],[0.4444444444444444,\"#bd3786\"],[0.5555555555555556,\"#d8576b\"],[0.6666666666666666,\"#ed7953\"],[0.7777777777777778,\"#fb9f3a\"],[0.8888888888888888,\"#fdca26\"],[1.0,\"#f0f921\"]],\"sequentialminus\":[[0.0,\"#0d0887\"],[0.1111111111111111,\"#46039f\"],[0.2222222222222222,\"#7201a8\"],[0.3333333333333333,\"#9c179e\"],[0.4444444444444444,\"#bd3786\"],[0.5555555555555556,\"#d8576b\"],[0.6666666666666666,\"#ed7953\"],[0.7777777777777778,\"#fb9f3a\"],[0.8888888888888888,\"#fdca26\"],[1.0,\"#f0f921\"]],\"diverging\":[[0,\"#8e0152\"],[0.1,\"#c51b7d\"],[0.2,\"#de77ae\"],[0.3,\"#f1b6da\"],[0.4,\"#fde0ef\"],[0.5,\"#f7f7f7\"],[0.6,\"#e6f5d0\"],[0.7,\"#b8e186\"],[0.8,\"#7fbc41\"],[0.9,\"#4d9221\"],[1,\"#276419\"]]},\"xaxis\":{\"gridcolor\":\"white\",\"linecolor\":\"white\",\"ticks\":\"\",\"title\":{\"standoff\":15},\"zerolinecolor\":\"white\",\"automargin\":true,\"zerolinewidth\":2},\"yaxis\":{\"gridcolor\":\"white\",\"linecolor\":\"white\",\"ticks\":\"\",\"title\":{\"standoff\":15},\"zerolinecolor\":\"white\",\"automargin\":true,\"zerolinewidth\":2},\"scene\":{\"xaxis\":{\"backgroundcolor\":\"#E5ECF6\",\"gridcolor\":\"white\",\"linecolor\":\"white\",\"showbackground\":true,\"ticks\":\"\",\"zerolinecolor\":\"white\",\"gridwidth\":2},\"yaxis\":{\"backgroundcolor\":\"#E5ECF6\",\"gridcolor\":\"white\",\"linecolor\":\"white\",\"showbackground\":true,\"ticks\":\"\",\"zerolinecolor\":\"white\",\"gridwidth\":2},\"zaxis\":{\"backgroundcolor\":\"#E5ECF6\",\"gridcolor\":\"white\",\"linecolor\":\"white\",\"showbackground\":true,\"ticks\":\"\",\"zerolinecolor\":\"white\",\"gridwidth\":2}},\"shapedefaults\":{\"line\":{\"color\":\"#2a3f5f\"}},\"annotationdefaults\":{\"arrowcolor\":\"#2a3f5f\",\"arrowhead\":0,\"arrowwidth\":1},\"geo\":{\"bgcolor\":\"white\",\"landcolor\":\"#E5ECF6\",\"subunitcolor\":\"white\",\"showland\":true,\"showlakes\":true,\"lakecolor\":\"white\"},\"title\":{\"x\":0.05},\"mapbox\":{\"style\":\"light\"}}},\"width\":400,\"height\":400},                        {\"responsive\": true}                    ).then(function(){\n",
       "                            \n",
       "var gd = document.getElementById('cbd3cfc9-491b-461d-8b5f-76df8df1bd18');\n",
       "var x = new MutationObserver(function (mutations, observer) {{\n",
       "        var display = window.getComputedStyle(gd).display;\n",
       "        if (!display || display === 'none') {{\n",
       "            console.log([gd, 'removed!']);\n",
       "            Plotly.purge(gd);\n",
       "            observer.disconnect();\n",
       "        }}\n",
       "}});\n",
       "\n",
       "// Listen for the removal of the full notebook cells\n",
       "var notebookContainer = gd.closest('#notebook-container');\n",
       "if (notebookContainer) {{\n",
       "    x.observe(notebookContainer, {childList: true});\n",
       "}}\n",
       "\n",
       "// Listen for the clearing of the current output cell\n",
       "var outputEl = gd.closest('.output');\n",
       "if (outputEl) {{\n",
       "    x.observe(outputEl, {childList: true});\n",
       "}}\n",
       "\n",
       "                        })                };                });            </script>        </div>"
      ]
     },
     "metadata": {},
     "output_type": "display_data"
    },
    {
     "name": "stdout",
     "output_type": "stream",
     "text": [
      "\n",
      "Random Resume Matching Score: 60.083186626434326 %\n",
      "Perfect Resume Matching Score: 76.30323767662048 %\n",
      "\u001b[1m\u001b[33mGood chance but you can improve further!\u001b[0m\n"
     ]
    }
   ],
   "source": [
    "# Visualization\n",
    "fig1 = go.Figure(go.Indicator(\n",
    "    mode=\"gauge+number\",\n",
    "    value=random_resume_similarity * 100,\n",
    "    title={'text': \"Random Resume Matching Score (%)\"},\n",
    "    gauge={\n",
    "        'axis': {'range': [0, 100]},\n",
    "        'steps': [\n",
    "            {'range': [0, 50], 'color': \"#FFB6C1\"},\n",
    "            {'range': [50, 70], 'color': \"#FFFFE0\"},\n",
    "            {'range': [70, 100], 'color': \"#90EE90\"}\n",
    "        ],\n",
    "        'threshold': {'line': {'color': \"red\", 'width': 4}, 'thickness': 0.75, 'value': 100}\n",
    "    }\n",
    "))\n",
    "\n",
    "fig1.update_layout(width=400, height=400)  # Adjust the width and height as desired\n",
    "fig1.show()\n",
    "\n",
    "fig2 = go.Figure(go.Indicator(\n",
    "    mode=\"gauge+number\",\n",
    "    value=perfect_resume_similarity * 100,\n",
    "    title={'text': \"Perfect Resume Matching Score (%)\"},\n",
    "    gauge={\n",
    "        'axis': {'range': [0, 100]},\n",
    "        'steps': [\n",
    "            {'range': [0, 50], 'color': \"#FFB6C1\"},\n",
    "            {'range': [50, 70], 'color': \"#FFFFE0\"},\n",
    "            {'range': [70, 100], 'color': \"#90EE90\"}\n",
    "        ],\n",
    "        'threshold': {'line': {'color': \"red\", 'width': 4}, 'thickness': 0.75, 'value': 100}\n",
    "    }\n",
    "))\n",
    "\n",
    "fig2.update_layout(width=400, height=400)  # Adjust the width and height as desired\n",
    "fig2.show()\n",
    "\n",
    "# Print results\n",
    "print(\"\\nRandom Resume Matching Score:\", random_resume_similarity * 100, \"%\")\n",
    "print(\"Perfect Resume Matching Score:\", perfect_resume_similarity * 100, \"%\")\n",
    "\n",
    "if random_resume_similarity < 0.5:\n",
    "    print(colored(\"Low chance, need to modify your CV!\", \"red\", attrs=[\"bold\"]))\n",
    "elif random_resume_similarity >= 0.5 and random_resume_similarity < 0.7:\n",
    "    print(colored(\"Good chance but you can improve further!\", \"yellow\", attrs=[\"bold\"]))\n",
    "else:\n",
    "    print(colored(\"Excellent! You can submit your CV.\", \"green\", attrs=[\"bold\"]))\n"
   ]
  },
  {
   "cell_type": "code",
   "execution_count": null,
   "metadata": {},
   "outputs": [],
   "source": []
  },
  {
   "cell_type": "code",
   "execution_count": null,
   "metadata": {},
   "outputs": [],
   "source": []
  },
  {
   "cell_type": "code",
   "execution_count": null,
   "metadata": {},
   "outputs": [],
   "source": []
  },
  {
   "cell_type": "code",
   "execution_count": null,
   "metadata": {},
   "outputs": [],
   "source": [
    "# # Evaluate Model\n",
    "# def evaluate_model(perfect_resumes, model_predictions):\n",
    "#     # Assuming model_predictions is a list of tuples (resume, score, rank)\n",
    "#     true_positives = 0\n",
    "#     false_positives = 0\n",
    "#     false_negatives = 0\n",
    "\n",
    "#     for perfect_resume, (predicted_resume, score, rank) in zip(perfect_resumes, model_predictions):\n",
    "#         # Define a threshold for considering a resume as a positive match\n",
    "#         threshold = 0.7  # Adjust this value as needed\n",
    "\n",
    "#         # Check if the predicted resume matches the perfect resume\n",
    "#         if score >= threshold:\n",
    "#             if perfect_resume == predicted_resume:\n",
    "#                 true_positives += 1\n",
    "#             else:\n",
    "#                 false_positives += 1\n",
    "#         else:\n",
    "#             if perfect_resume != predicted_resume:\n",
    "#                 false_negatives += 1\n",
    "\n",
    "#     precision = precision_score(true_positives, true_positives + false_positives)\n",
    "#     recall = recall_score(true_positives, true_positives + false_negatives)\n",
    "#     f1 = f1_score(true_positives, true_positives + false_positives + false_negatives)\n",
    "\n",
    "#     print(f\"Precision: {precision:.2f}\")\n",
    "#     print(f\"Recall: {recall:.2f}\")\n",
    "#     print(f\"F1-score: {f1:.2f}\")\n",
    "\n",
    "# # Save perfect resumes to a file\n",
    "# with open('perfect_resumes.txt', 'w', encoding='utf-8') as f:\n",
    "#     for resume in perfect_resumes:\n",
    "#         resume_str = str(resume)\n",
    "#         f.write(resume_str + '\\n')"
   ]
  },
  {
   "cell_type": "code",
   "execution_count": null,
   "metadata": {},
   "outputs": [],
   "source": [
    "# # Validation: Compare perfect resumes with random resumes\n",
    "# random_resumes = [f for f in os.listdir('./dataset/resumes') if f.endswith('.docx')]\n",
    "\n",
    "# for job_description, perfect_resume in zip(df['data'], perfect_resumes):\n",
    "#     print(f\"\\nJob Description: {job_description}\")\n",
    "#     print(f\"Perfect Resume: {perfect_resume}\")\n",
    "\n",
    "#     # Get a random resume\n",
    "#     random_resume_file = random.choice(random_resumes)\n",
    "#     random_resume_doc = Document(os.path.join('./dataset/resumes', random_resume_file))\n",
    "#     random_resume_text = \"\"\n",
    "#     for para in random_resume_doc.paragraphs:\n",
    "#         random_resume_text += para.text\n",
    "\n",
    "#     # Preprocess the job description, perfect resume, and random resume\n",
    "#     input_JD = preprocess_text(job_description)\n",
    "#     input_perfect_resume = preprocess_text(str(perfect_resume))\n",
    "#     input_random_resume = preprocess_text(random_resume_text)\n",
    "\n",
    "#     # Calculate similarity scores\n",
    "#     model = Doc2Vec.load('cv_job_maching.model')\n",
    "#     v1 = model.infer_vector(input_perfect_resume.split())\n",
    "#     v2 = model.infer_vector(input_JD.split())\n",
    "#     v3 = model.infer_vector(input_random_resume.split())\n",
    "\n",
    "#     perfect_resume_score = 100 * (np.dot(np.array(v1), np.array(v2))) / (norm(np.array(v1)) * norm(np.array(v2)))\n",
    "#     random_resume_score = 100 * (np.dot(np.array(v3), np.array(v2))) / (norm(np.array(v3)) * norm(np.array(v2)))\n",
    "\n",
    "#     print(f\"Perfect Resume Score: {perfect_resume_score:.2f}\")\n",
    "#     print(f\"Random Resume Score: {random_resume_score:.2f}\")\n",
    "\n",
    "    \n",
    "#     # Visualization\n",
    "#     fig = go.Figure()\n",
    "\n",
    "#     fig.add_trace(go.Indicator(\n",
    "#         mode=\"gauge+number\",\n",
    "#         value=perfect_resume_score,\n",
    "#         title={'text': \"Perfect Resume Score\"},\n",
    "#         gauge={\n",
    "#             'axis': {'range': [0, 100]},\n",
    "#             'steps': [\n",
    "#                 {'range': [0, 50], 'color': \"#FFB6C1\"},\n",
    "#                 {'range': [50, 70], 'color': \"#FFFFE0\"},\n",
    "#                 {'range': [70, 100], 'color': \"#90EE90\"}\n",
    "#             ],\n",
    "#             'threshold': {'line': {'color': \"red\", 'width': 4}, 'thickness': 0.75, 'value': 100}\n",
    "#         }\n",
    "#     ))\n",
    "\n",
    "#     # Print feedback results\n",
    "# if similarity < 50:\n",
    "#     print(colored(\"Low chance, need to modify your CV!\", \"red\", attrs=[\"bold\"]))\n",
    "# elif similarity >= 50 and similarity < 70:\n",
    "#     print(colored(\"Good chance but you can improve further!\", \"yellow\", attrs=[\"bold\"]))\n",
    "# else:\n",
    "#     print(colored(\"Excellent! You can submit your CV.\", \"green\", attrs=[\"bold\"]))\n",
    "\n",
    "#     fig.add_trace(go.Indicator(\n",
    "#         mode=\"gauge+number\",\n",
    "#         value=random_resume_score,\n",
    "#         title={'text': \"Random Resume Score\"},\n",
    "#         gauge={\n",
    "#             'axis': {'range': [0, 100]},\n",
    "#             'steps': [\n",
    "#                 {'range': [0, 50], 'color': \"#FFB6C1\"},\n",
    "#                 {'range': [50, 70], 'color': \"#FFFFE0\"},\n",
    "#                 {'range': [70, 100], 'color': \"#90EE90\"}\n",
    "#             ],\n",
    "#             'threshold': {'line': {'color': \"red\", 'width': 4}, 'thickness': 0.75, 'value': 100}\n",
    "#         }\n",
    "#     ))\n",
    "\n",
    "#     fig.update_layout(width=800, height=400, grid={'rows': 1, 'columns': 2})\n",
    "#     fig.show()\n",
    "\n",
    "# # Print feedback results\n",
    "# if similarity < 50:\n",
    "#     print(colored(\"Low chance, need to modify your CV!\", \"red\", attrs=[\"bold\"]))\n",
    "# elif similarity >= 50 and similarity < 70:\n",
    "#     print(colored(\"Good chance but you can improve further!\", \"yellow\", attrs=[\"bold\"]))\n",
    "# else:\n",
    "#     print(colored(\"Excellent! You can submit your CV.\", \"green\", attrs=[\"bold\"]))"
   ]
  },
  {
   "cell_type": "code",
   "execution_count": null,
   "metadata": {},
   "outputs": [],
   "source": [
    "# # Validation: Compare perfect resumes with random resumes\n",
    "# random_resumes = [f for f in os.listdir('./dataset/resumes') if f.endswith('.docx')]\n",
    "\n",
    "# for job_description, perfect_resume in zip(df['data'], perfect_resumes):\n",
    "#     # Get a random resume\n",
    "#     random_resume_file = random.choice(random_resumes)\n",
    "#     random_resume_doc = Document(os.path.join('./dataset/resumes', random_resume_file))\n",
    "#     random_resume_text = \"\"\n",
    "#     for para in random_resume_doc.paragraphs:\n",
    "#         random_resume_text += para.text\n",
    "\n",
    "#     # Preprocess the job description, perfect resume, and random resume\n",
    "#     input_JD = preprocess_text(job_description)\n",
    "#     input_perfect_resume = preprocess_text(str(perfect_resume))\n",
    "#     input_random_resume = preprocess_text(random_resume_text)\n",
    "\n",
    "#     # Calculate similarity scores\n",
    "#     model = Doc2Vec.load('cv_job_maching.model')\n",
    "#     v1 = model.infer_vector(input_perfect_resume.split())\n",
    "#     v2 = model.infer_vector(input_JD.split())\n",
    "#     v3 = model.infer_vector(input_random_resume.split())\n",
    "\n",
    "#     perfect_resume_score = 100"
   ]
  },
  {
   "cell_type": "code",
   "execution_count": 20,
   "metadata": {
    "id": "qlbOvGLfWqsd"
   },
   "outputs": [
    {
     "name": "stdout",
     "output_type": "stream",
     "text": [
      "83.36\n"
     ]
    }
   ],
   "source": [
    "# # Model evaluation\n",
    "# model = Doc2Vec.load('cv_job_maching.model')\n",
    "# v1 = model.infer_vector(input_CV.split())\n",
    "# v2 = model.infer_vector(input_JD.split())\n",
    "# similarity = 100*(np.dot(np.array(v1), np.array(v2))) / (norm(np.array(v1)) * norm(np.array(v2)))\n",
    "# print(round(similarity, 2))"
   ]
  }
 ],
 "metadata": {
  "colab": {
   "provenance": []
  },
  "kernelspec": {
   "display_name": "Python 3 (ipykernel)",
   "language": "python",
   "name": "python3"
  },
  "language_info": {
   "codemirror_mode": {
    "name": "ipython",
    "version": 3
   },
   "file_extension": ".py",
   "mimetype": "text/x-python",
   "name": "python",
   "nbconvert_exporter": "python",
   "pygments_lexer": "ipython3",
   "version": "3.11.7"
  }
 },
 "nbformat": 4,
 "nbformat_minor": 4
}
